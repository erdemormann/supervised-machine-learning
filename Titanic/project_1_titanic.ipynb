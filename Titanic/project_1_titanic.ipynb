{
 "cells": [
  {
   "cell_type": "markdown",
   "id": "f43dada8-41bd-4fef-bea2-cc70d297823f",
   "metadata": {},
   "source": [
    "## 1. Import Libraries"
   ]
  },
  {
   "cell_type": "code",
   "execution_count": 72,
   "id": "0a61f48f-3a9b-4acf-ab8e-a92417940c7e",
   "metadata": {},
   "outputs": [],
   "source": [
    "import pandas as pd\n",
    "import numpy as np\n",
    "import matplotlib.pyplot as plt\n",
    "import seaborn as sns\n",
    "import sklearn\n",
    "import matplotlib\n",
    "%matplotlib inline\n",
    "\n",
    "import warnings\n",
    "warnings.filterwarnings('ignore')"
   ]
  },
  {
   "cell_type": "markdown",
   "id": "d161d0d1-9f7c-4f91-b515-eca6d5b382a6",
   "metadata": {},
   "source": [
    "## 2. Import Dataset and Check It Out"
   ]
  },
  {
   "cell_type": "code",
   "execution_count": 73,
   "id": "cf30f856-d9d5-4e05-b469-c673a887ba6f",
   "metadata": {},
   "outputs": [],
   "source": [
    "df = pd.read_csv('data/train.csv')"
   ]
  },
  {
   "cell_type": "code",
   "execution_count": 74,
   "id": "039c2659-d9e0-458f-8d66-06d50e7e2bca",
   "metadata": {},
   "outputs": [
    {
     "data": {
      "text/html": [
       "<div>\n",
       "<style scoped>\n",
       "    .dataframe tbody tr th:only-of-type {\n",
       "        vertical-align: middle;\n",
       "    }\n",
       "\n",
       "    .dataframe tbody tr th {\n",
       "        vertical-align: top;\n",
       "    }\n",
       "\n",
       "    .dataframe thead th {\n",
       "        text-align: right;\n",
       "    }\n",
       "</style>\n",
       "<table border=\"1\" class=\"dataframe\">\n",
       "  <thead>\n",
       "    <tr style=\"text-align: right;\">\n",
       "      <th></th>\n",
       "      <th>PassengerId</th>\n",
       "      <th>Survived</th>\n",
       "      <th>Pclass</th>\n",
       "      <th>Name</th>\n",
       "      <th>Sex</th>\n",
       "      <th>Age</th>\n",
       "      <th>SibSp</th>\n",
       "      <th>Parch</th>\n",
       "      <th>Ticket</th>\n",
       "      <th>Fare</th>\n",
       "      <th>Cabin</th>\n",
       "      <th>Embarked</th>\n",
       "    </tr>\n",
       "  </thead>\n",
       "  <tbody>\n",
       "    <tr>\n",
       "      <th>0</th>\n",
       "      <td>1</td>\n",
       "      <td>0</td>\n",
       "      <td>3</td>\n",
       "      <td>Braund, Mr. Owen Harris</td>\n",
       "      <td>male</td>\n",
       "      <td>22.0</td>\n",
       "      <td>1</td>\n",
       "      <td>0</td>\n",
       "      <td>A/5 21171</td>\n",
       "      <td>7.2500</td>\n",
       "      <td>NaN</td>\n",
       "      <td>S</td>\n",
       "    </tr>\n",
       "    <tr>\n",
       "      <th>1</th>\n",
       "      <td>2</td>\n",
       "      <td>1</td>\n",
       "      <td>1</td>\n",
       "      <td>Cumings, Mrs. John Bradley (Florence Briggs Th...</td>\n",
       "      <td>female</td>\n",
       "      <td>38.0</td>\n",
       "      <td>1</td>\n",
       "      <td>0</td>\n",
       "      <td>PC 17599</td>\n",
       "      <td>71.2833</td>\n",
       "      <td>C85</td>\n",
       "      <td>C</td>\n",
       "    </tr>\n",
       "    <tr>\n",
       "      <th>2</th>\n",
       "      <td>3</td>\n",
       "      <td>1</td>\n",
       "      <td>3</td>\n",
       "      <td>Heikkinen, Miss. Laina</td>\n",
       "      <td>female</td>\n",
       "      <td>26.0</td>\n",
       "      <td>0</td>\n",
       "      <td>0</td>\n",
       "      <td>STON/O2. 3101282</td>\n",
       "      <td>7.9250</td>\n",
       "      <td>NaN</td>\n",
       "      <td>S</td>\n",
       "    </tr>\n",
       "    <tr>\n",
       "      <th>3</th>\n",
       "      <td>4</td>\n",
       "      <td>1</td>\n",
       "      <td>1</td>\n",
       "      <td>Futrelle, Mrs. Jacques Heath (Lily May Peel)</td>\n",
       "      <td>female</td>\n",
       "      <td>35.0</td>\n",
       "      <td>1</td>\n",
       "      <td>0</td>\n",
       "      <td>113803</td>\n",
       "      <td>53.1000</td>\n",
       "      <td>C123</td>\n",
       "      <td>S</td>\n",
       "    </tr>\n",
       "    <tr>\n",
       "      <th>4</th>\n",
       "      <td>5</td>\n",
       "      <td>0</td>\n",
       "      <td>3</td>\n",
       "      <td>Allen, Mr. William Henry</td>\n",
       "      <td>male</td>\n",
       "      <td>35.0</td>\n",
       "      <td>0</td>\n",
       "      <td>0</td>\n",
       "      <td>373450</td>\n",
       "      <td>8.0500</td>\n",
       "      <td>NaN</td>\n",
       "      <td>S</td>\n",
       "    </tr>\n",
       "  </tbody>\n",
       "</table>\n",
       "</div>"
      ],
      "text/plain": [
       "   PassengerId  Survived  Pclass  \\\n",
       "0            1         0       3   \n",
       "1            2         1       1   \n",
       "2            3         1       3   \n",
       "3            4         1       1   \n",
       "4            5         0       3   \n",
       "\n",
       "                                                Name     Sex   Age  SibSp  \\\n",
       "0                            Braund, Mr. Owen Harris    male  22.0      1   \n",
       "1  Cumings, Mrs. John Bradley (Florence Briggs Th...  female  38.0      1   \n",
       "2                             Heikkinen, Miss. Laina  female  26.0      0   \n",
       "3       Futrelle, Mrs. Jacques Heath (Lily May Peel)  female  35.0      1   \n",
       "4                           Allen, Mr. William Henry    male  35.0      0   \n",
       "\n",
       "   Parch            Ticket     Fare Cabin Embarked  \n",
       "0      0         A/5 21171   7.2500   NaN        S  \n",
       "1      0          PC 17599  71.2833   C85        C  \n",
       "2      0  STON/O2. 3101282   7.9250   NaN        S  \n",
       "3      0            113803  53.1000  C123        S  \n",
       "4      0            373450   8.0500   NaN        S  "
      ]
     },
     "execution_count": 74,
     "metadata": {},
     "output_type": "execute_result"
    }
   ],
   "source": [
    "df.head()"
   ]
  },
  {
   "cell_type": "code",
   "execution_count": 75,
   "id": "16ca7f9b-fb1d-41ba-b848-bf670358f24f",
   "metadata": {},
   "outputs": [
    {
     "data": {
      "text/plain": [
       "(891, 12)"
      ]
     },
     "execution_count": 75,
     "metadata": {},
     "output_type": "execute_result"
    }
   ],
   "source": [
    "df.shape"
   ]
  },
  {
   "cell_type": "code",
   "execution_count": 76,
   "id": "65e498db-1a20-48fb-8f41-2bc79f433612",
   "metadata": {},
   "outputs": [
    {
     "data": {
      "text/html": [
       "<div>\n",
       "<style scoped>\n",
       "    .dataframe tbody tr th:only-of-type {\n",
       "        vertical-align: middle;\n",
       "    }\n",
       "\n",
       "    .dataframe tbody tr th {\n",
       "        vertical-align: top;\n",
       "    }\n",
       "\n",
       "    .dataframe thead th {\n",
       "        text-align: right;\n",
       "    }\n",
       "</style>\n",
       "<table border=\"1\" class=\"dataframe\">\n",
       "  <thead>\n",
       "    <tr style=\"text-align: right;\">\n",
       "      <th></th>\n",
       "      <th>PassengerId</th>\n",
       "      <th>Survived</th>\n",
       "      <th>Pclass</th>\n",
       "      <th>Age</th>\n",
       "      <th>SibSp</th>\n",
       "      <th>Parch</th>\n",
       "      <th>Fare</th>\n",
       "    </tr>\n",
       "  </thead>\n",
       "  <tbody>\n",
       "    <tr>\n",
       "      <th>count</th>\n",
       "      <td>891.000000</td>\n",
       "      <td>891.000000</td>\n",
       "      <td>891.000000</td>\n",
       "      <td>714.000000</td>\n",
       "      <td>891.000000</td>\n",
       "      <td>891.000000</td>\n",
       "      <td>891.000000</td>\n",
       "    </tr>\n",
       "    <tr>\n",
       "      <th>mean</th>\n",
       "      <td>446.000000</td>\n",
       "      <td>0.383838</td>\n",
       "      <td>2.308642</td>\n",
       "      <td>29.699118</td>\n",
       "      <td>0.523008</td>\n",
       "      <td>0.381594</td>\n",
       "      <td>32.204208</td>\n",
       "    </tr>\n",
       "    <tr>\n",
       "      <th>std</th>\n",
       "      <td>257.353842</td>\n",
       "      <td>0.486592</td>\n",
       "      <td>0.836071</td>\n",
       "      <td>14.526497</td>\n",
       "      <td>1.102743</td>\n",
       "      <td>0.806057</td>\n",
       "      <td>49.693429</td>\n",
       "    </tr>\n",
       "    <tr>\n",
       "      <th>min</th>\n",
       "      <td>1.000000</td>\n",
       "      <td>0.000000</td>\n",
       "      <td>1.000000</td>\n",
       "      <td>0.420000</td>\n",
       "      <td>0.000000</td>\n",
       "      <td>0.000000</td>\n",
       "      <td>0.000000</td>\n",
       "    </tr>\n",
       "    <tr>\n",
       "      <th>25%</th>\n",
       "      <td>223.500000</td>\n",
       "      <td>0.000000</td>\n",
       "      <td>2.000000</td>\n",
       "      <td>20.125000</td>\n",
       "      <td>0.000000</td>\n",
       "      <td>0.000000</td>\n",
       "      <td>7.910400</td>\n",
       "    </tr>\n",
       "    <tr>\n",
       "      <th>50%</th>\n",
       "      <td>446.000000</td>\n",
       "      <td>0.000000</td>\n",
       "      <td>3.000000</td>\n",
       "      <td>28.000000</td>\n",
       "      <td>0.000000</td>\n",
       "      <td>0.000000</td>\n",
       "      <td>14.454200</td>\n",
       "    </tr>\n",
       "    <tr>\n",
       "      <th>75%</th>\n",
       "      <td>668.500000</td>\n",
       "      <td>1.000000</td>\n",
       "      <td>3.000000</td>\n",
       "      <td>38.000000</td>\n",
       "      <td>1.000000</td>\n",
       "      <td>0.000000</td>\n",
       "      <td>31.000000</td>\n",
       "    </tr>\n",
       "    <tr>\n",
       "      <th>max</th>\n",
       "      <td>891.000000</td>\n",
       "      <td>1.000000</td>\n",
       "      <td>3.000000</td>\n",
       "      <td>80.000000</td>\n",
       "      <td>8.000000</td>\n",
       "      <td>6.000000</td>\n",
       "      <td>512.329200</td>\n",
       "    </tr>\n",
       "  </tbody>\n",
       "</table>\n",
       "</div>"
      ],
      "text/plain": [
       "       PassengerId    Survived      Pclass         Age       SibSp  \\\n",
       "count   891.000000  891.000000  891.000000  714.000000  891.000000   \n",
       "mean    446.000000    0.383838    2.308642   29.699118    0.523008   \n",
       "std     257.353842    0.486592    0.836071   14.526497    1.102743   \n",
       "min       1.000000    0.000000    1.000000    0.420000    0.000000   \n",
       "25%     223.500000    0.000000    2.000000   20.125000    0.000000   \n",
       "50%     446.000000    0.000000    3.000000   28.000000    0.000000   \n",
       "75%     668.500000    1.000000    3.000000   38.000000    1.000000   \n",
       "max     891.000000    1.000000    3.000000   80.000000    8.000000   \n",
       "\n",
       "            Parch        Fare  \n",
       "count  891.000000  891.000000  \n",
       "mean     0.381594   32.204208  \n",
       "std      0.806057   49.693429  \n",
       "min      0.000000    0.000000  \n",
       "25%      0.000000    7.910400  \n",
       "50%      0.000000   14.454200  \n",
       "75%      0.000000   31.000000  \n",
       "max      6.000000  512.329200  "
      ]
     },
     "execution_count": 76,
     "metadata": {},
     "output_type": "execute_result"
    }
   ],
   "source": [
    "df.describe()"
   ]
  },
  {
   "cell_type": "code",
   "execution_count": 77,
   "id": "56af2cec-a036-46a3-b4c5-687004350400",
   "metadata": {},
   "outputs": [
    {
     "name": "stdout",
     "output_type": "stream",
     "text": [
      "<class 'pandas.core.frame.DataFrame'>\n",
      "RangeIndex: 891 entries, 0 to 890\n",
      "Data columns (total 12 columns):\n",
      " #   Column       Non-Null Count  Dtype  \n",
      "---  ------       --------------  -----  \n",
      " 0   PassengerId  891 non-null    int64  \n",
      " 1   Survived     891 non-null    int64  \n",
      " 2   Pclass       891 non-null    int64  \n",
      " 3   Name         891 non-null    object \n",
      " 4   Sex          891 non-null    object \n",
      " 5   Age          714 non-null    float64\n",
      " 6   SibSp        891 non-null    int64  \n",
      " 7   Parch        891 non-null    int64  \n",
      " 8   Ticket       891 non-null    object \n",
      " 9   Fare         891 non-null    float64\n",
      " 10  Cabin        204 non-null    object \n",
      " 11  Embarked     889 non-null    object \n",
      "dtypes: float64(2), int64(5), object(5)\n",
      "memory usage: 83.7+ KB\n"
     ]
    }
   ],
   "source": [
    "df.info()"
   ]
  },
  {
   "cell_type": "code",
   "execution_count": 78,
   "id": "9e923930-b5cb-4e93-a9a7-81a1109b1f78",
   "metadata": {},
   "outputs": [
    {
     "data": {
      "text/plain": [
       "PassengerId      0\n",
       "Survived         0\n",
       "Pclass           0\n",
       "Name             0\n",
       "Sex              0\n",
       "Age            177\n",
       "SibSp            0\n",
       "Parch            0\n",
       "Ticket           0\n",
       "Fare             0\n",
       "Cabin          687\n",
       "Embarked         2\n",
       "dtype: int64"
      ]
     },
     "execution_count": 78,
     "metadata": {},
     "output_type": "execute_result"
    }
   ],
   "source": [
    "df.isnull().sum()"
   ]
  },
  {
   "cell_type": "markdown",
   "id": "f075da68-dd10-49a9-87d6-104f226271dc",
   "metadata": {},
   "source": [
    "## 3. Missing Values"
   ]
  },
  {
   "cell_type": "markdown",
   "id": "510cbe28-8727-44f6-93cc-765bccb429aa",
   "metadata": {},
   "source": [
    "* Cabin\n",
    "\n",
    "* Age\n",
    "\n",
    "* Embarked"
   ]
  },
  {
   "cell_type": "markdown",
   "id": "c8c29305-db57-4e58-b88b-7610719ae8ac",
   "metadata": {},
   "source": [
    "### 3.1 Cabin"
   ]
  },
  {
   "cell_type": "code",
   "execution_count": 79,
   "id": "e45f7de8-ab8b-45f4-ab61-0c6b401dbaea",
   "metadata": {},
   "outputs": [
    {
     "data": {
      "text/plain": [
       "22.895622895622896"
      ]
     },
     "execution_count": 79,
     "metadata": {},
     "output_type": "execute_result"
    }
   ],
   "source": [
    "df['Cabin'].value_counts().sum() / df.shape[0] * 100"
   ]
  },
  {
   "cell_type": "markdown",
   "id": "f8946175-9bbd-4d3c-9a6e-cddacb330bb7",
   "metadata": {},
   "source": [
    "%77 empyt of data. It's too high! We have to drop this column"
   ]
  },
  {
   "cell_type": "markdown",
   "id": "ec3fdb59-2f29-4c8c-9782-5cef143606cb",
   "metadata": {},
   "source": [
    "### 3.2 Age"
   ]
  },
  {
   "cell_type": "code",
   "execution_count": 80,
   "id": "e1403b32-d7b2-4a09-af48-0bbdab55f4bd",
   "metadata": {},
   "outputs": [
    {
     "data": {
      "text/plain": [
       "80.13468013468014"
      ]
     },
     "execution_count": 80,
     "metadata": {},
     "output_type": "execute_result"
    }
   ],
   "source": [
    "df['Age'].value_counts().sum() / df.shape[0] * 100"
   ]
  },
  {
   "cell_type": "code",
   "execution_count": 81,
   "id": "01013434-7fa6-430a-b316-74b7f1a5e8f1",
   "metadata": {},
   "outputs": [
    {
     "data": {
      "text/plain": [
       "<AxesSubplot:xlabel='Age', ylabel='Count'>"
      ]
     },
     "execution_count": 81,
     "metadata": {},
     "output_type": "execute_result"
    },
    {
     "data": {
      "image/png": "[encoded data removed]",
      "text/plain": [
       "<Figure size 432x288 with 1 Axes>"
      ]
     },
     "metadata": {
      "needs_background": "light"
     },
     "output_type": "display_data"
    }
   ],
   "source": [
    "sns.histplot(data=df, x=df[\"Age\"], kde=True)"
   ]
  },
  {
   "cell_type": "code",
   "execution_count": 82,
   "id": "44aac0ae-d7d9-49e2-9a8e-2624da830553",
   "metadata": {},
   "outputs": [
    {
     "name": "stdout",
     "output_type": "stream",
     "text": [
      "Mean : 29.69911764705882\n",
      "Median : 28.0\n"
     ]
    }
   ],
   "source": [
    "print(\"Mean :\", df['Age'].mean(skipna=True))\n",
    "print(\"Median :\", df['Age'].median(skipna=True))"
   ]
  },
  {
   "cell_type": "markdown",
   "id": "c4961bc3-8f3d-456e-8d2d-56afe08d1b23",
   "metadata": {},
   "source": [
    "`We could fill this column with median but instead that we will fill each class according to pclass mean. this way, Age values could be more close to real values, more reflect values`"
   ]
  },
  {
   "cell_type": "code",
   "execution_count": 83,
   "id": "43e8085c-9d33-495d-ad2b-66adf9a5d38e",
   "metadata": {},
   "outputs": [
    {
     "data": {
      "text/plain": [
       "3    491\n",
       "1    216\n",
       "2    184\n",
       "Name: Pclass, dtype: int64"
      ]
     },
     "execution_count": 83,
     "metadata": {},
     "output_type": "execute_result"
    }
   ],
   "source": [
    "df['Pclass'].value_counts()"
   ]
  },
  {
   "cell_type": "code",
   "execution_count": 84,
   "id": "5d415687-3929-496e-bb94-942e9c33051b",
   "metadata": {},
   "outputs": [
    {
     "data": {
      "text/plain": [
       "<AxesSubplot:xlabel='Pclass', ylabel='count'>"
      ]
     },
     "execution_count": 84,
     "metadata": {},
     "output_type": "execute_result"
    },
    {
     "data": {
      "image/png": "[encoded data removed]",
      "text/plain": [
       "<Figure size 432x288 with 1 Axes>"
      ]
     },
     "metadata": {
      "needs_background": "light"
     },
     "output_type": "display_data"
    }
   ],
   "source": [
    "sns.countplot(x=df['Pclass'])"
   ]
  },
  {
   "cell_type": "markdown",
   "id": "c0ebad45-98bd-40c5-b5db-325cfd97f342",
   "metadata": {},
   "source": [
    "### 3.3 Embarked"
   ]
  },
  {
   "cell_type": "code",
   "execution_count": 85,
   "id": "4816919e-dbf7-41f1-b353-11f0399c4f39",
   "metadata": {},
   "outputs": [
    {
     "data": {
      "text/plain": [
       "99.77553310886644"
      ]
     },
     "execution_count": 85,
     "metadata": {},
     "output_type": "execute_result"
    }
   ],
   "source": [
    "df['Embarked'].value_counts().sum() / df.shape[0] * 100"
   ]
  },
  {
   "cell_type": "markdown",
   "id": "30535d84-8858-4231-8d63-18b4d8d1b72f",
   "metadata": {},
   "source": [
    "`It's almost full. We could fill with the most frequency value. (Because of it is a categorical value)`"
   ]
  },
  {
   "cell_type": "code",
   "execution_count": 86,
   "id": "dd05db69-0ae4-476b-876a-f9c7596e06d0",
   "metadata": {},
   "outputs": [
    {
     "data": {
      "text/plain": [
       "<AxesSubplot:xlabel='Embarked', ylabel='count'>"
      ]
     },
     "execution_count": 86,
     "metadata": {},
     "output_type": "execute_result"
    },
    {
     "data": {
      "image/png": "[encoded data removed]",
      "text/plain": [
       "<Figure size 432x288 with 1 Axes>"
      ]
     },
     "metadata": {
      "needs_background": "light"
     },
     "output_type": "display_data"
    }
   ],
   "source": [
    "sns.countplot(x=df['Embarked'])"
   ]
  },
  {
   "cell_type": "markdown",
   "id": "bf2e9dac-990b-4f81-b1d3-85d88e605d3b",
   "metadata": {},
   "source": [
    "`That value we use is 'S'.`"
   ]
  },
  {
   "cell_type": "markdown",
   "id": "8d624891-5609-4b59-b3b7-39b1edd18443",
   "metadata": {},
   "source": [
    "### 3.4 Let's Handle them"
   ]
  },
  {
   "cell_type": "code",
   "execution_count": 87,
   "id": "41896bef-f086-4b82-93ca-41a6d3d34e25",
   "metadata": {},
   "outputs": [],
   "source": [
    "data = df.copy()"
   ]
  },
  {
   "cell_type": "code",
   "execution_count": 88,
   "id": "dcedc5d3-8ed6-4a3c-936b-a1d8bc4b1a92",
   "metadata": {},
   "outputs": [],
   "source": [
    "# for Cabin\n",
    "\n",
    "data.drop(['Cabin'], axis=1, inplace=True)"
   ]
  },
  {
   "cell_type": "code",
   "execution_count": 89,
   "id": "5580e43c-34cd-4da0-93e5-8839b551c80c",
   "metadata": {},
   "outputs": [],
   "source": [
    "p_1 = data[df['Pclass'] == 1]['Age'].mean()\n",
    "\n",
    "# or \n",
    "# filt = df['Pclass'] == 1\n",
    "# df.where(filt)['Age'].mean()\n",
    "# or\n",
    "# data[\"Age\"][data.Pclass == 1].mean()"
   ]
  },
  {
   "cell_type": "code",
   "execution_count": 90,
   "id": "d6975ae5-0728-4e47-a872-bcd8d4b4b06b",
   "metadata": {},
   "outputs": [],
   "source": [
    "p_2 = data[df['Pclass'] == 2]['Age'].mean()"
   ]
  },
  {
   "cell_type": "code",
   "execution_count": 91,
   "id": "1dd7835a-073c-403f-ad9d-1e56a0c2421d",
   "metadata": {},
   "outputs": [],
   "source": [
    "p_3 = data[df['Pclass'] == 3]['Age'].mean()"
   ]
  },
  {
   "cell_type": "markdown",
   "id": "b682d989-e82c-4cc8-8fdd-2fb7cbef4d7f",
   "metadata": {},
   "source": [
    "**Pandas.apply()** -> Allow the users to pass a function and apply it on every single value of the Pandas series."
   ]
  },
  {
   "cell_type": "code",
   "execution_count": 92,
   "id": "749129ed-d084-47d5-b42a-9a0bccae440a",
   "metadata": {},
   "outputs": [],
   "source": [
    "def filling_age(columns):\n",
    "    \n",
    "    age = columns[0]\n",
    "    p_class = columns[1]\n",
    "    \n",
    "    if pd.isnull(age):\n",
    "        \n",
    "        if p_class == 1:\n",
    "            return p_1\n",
    "\n",
    "        elif p_class == 2:\n",
    "            return p_2\n",
    "\n",
    "        elif p_class == 3:\n",
    "            return p_3\n",
    "        \n",
    "    else:\n",
    "        return age"
   ]
  },
  {
   "cell_type": "code",
   "execution_count": 93,
   "id": "fb302f5e-a499-476d-a4fb-348ab14eb246",
   "metadata": {
    "tags": []
   },
   "outputs": [],
   "source": [
    "data['Age'] = data[['Age', 'Pclass']].apply(filling_age, axis=1)"
   ]
  },
  {
   "cell_type": "code",
   "execution_count": 94,
   "id": "e916b050-0f2e-4b4e-8f62-56770d0a4fd4",
   "metadata": {},
   "outputs": [
    {
     "data": {
      "text/plain": [
       "PassengerId    0\n",
       "Survived       0\n",
       "Pclass         0\n",
       "Name           0\n",
       "Sex            0\n",
       "Age            0\n",
       "SibSp          0\n",
       "Parch          0\n",
       "Ticket         0\n",
       "Fare           0\n",
       "Embarked       2\n",
       "dtype: int64"
      ]
     },
     "execution_count": 94,
     "metadata": {},
     "output_type": "execute_result"
    }
   ],
   "source": [
    "data.isnull().sum()"
   ]
  },
  {
   "cell_type": "code",
   "execution_count": 95,
   "id": "6614b26b-a9d2-47fa-8919-8f08e46d0988",
   "metadata": {},
   "outputs": [],
   "source": [
    "# for Embarked\n",
    "\n",
    "data['Embarked'].fillna('S', inplace=True)"
   ]
  },
  {
   "cell_type": "code",
   "execution_count": 96,
   "id": "4af9480f-c7bc-4b33-b6b0-5b92d93f69fc",
   "metadata": {},
   "outputs": [
    {
     "data": {
      "text/plain": [
       "PassengerId    0\n",
       "Survived       0\n",
       "Pclass         0\n",
       "Name           0\n",
       "Sex            0\n",
       "Age            0\n",
       "SibSp          0\n",
       "Parch          0\n",
       "Ticket         0\n",
       "Fare           0\n",
       "Embarked       0\n",
       "dtype: int64"
      ]
     },
     "execution_count": 96,
     "metadata": {},
     "output_type": "execute_result"
    }
   ],
   "source": [
    "data.isnull().sum()"
   ]
  },
  {
   "cell_type": "markdown",
   "id": "8ca2c44f-2090-483d-ae85-c52a8c9cef66",
   "metadata": {},
   "source": [
    "### 3.5 Feature Analysis"
   ]
  },
  {
   "cell_type": "markdown",
   "id": "ace267c0-a821-47f6-a087-45a6839c9321",
   "metadata": {},
   "source": [
    "as write on the kaggle Variable Notes -> https://www.kaggle.com/competitions/titanic/data\n",
    "\n",
    "**sibsp:** The dataset defines family relations in this way...\n",
    "\n",
    "Sibling = brother, sister, stepbrother, stepsister\n",
    "\n",
    "Spouse = husband, wife (mistresses and fiancés were ignored)\n",
    "\n",
    "**parch:** The dataset defines family relations in this way...\n",
    "\n",
    "Parent = mother, father\n",
    "\n",
    "Child = daughter, son, stepdaughter, stepson\n",
    "\n",
    "Some children travelled only with a nanny, therefore parch=0 for them."
   ]
  },
  {
   "cell_type": "markdown",
   "id": "32f8783e-06cf-4c9d-843e-d70498e5c326",
   "metadata": {},
   "source": [
    "**Actually two column of them look very similiar we just could merge them to one column** \n",
    "\n",
    "There is a too much correlation"
   ]
  },
  {
   "cell_type": "code",
   "execution_count": 97,
   "id": "34c1bc2a-ff3b-47e7-a132-53306bb7cd66",
   "metadata": {},
   "outputs": [
    {
     "data": {
      "text/plain": [
       "0      0\n",
       "1      0\n",
       "2      1\n",
       "3      0\n",
       "4      1\n",
       "      ..\n",
       "886    1\n",
       "887    1\n",
       "888    0\n",
       "889    1\n",
       "890    1\n",
       "Name: IsAlone, Length: 891, dtype: int32"
      ]
     },
     "execution_count": 97,
     "metadata": {},
     "output_type": "execute_result"
    }
   ],
   "source": [
    "data[\"IsAlone\"] = np.where(df[\"SibSp\"] + df[\"Parch\"] > 0, 0, 1)\n",
    "data[\"IsAlone\"]"
   ]
  },
  {
   "cell_type": "markdown",
   "id": "71b08d9d-e977-45b2-a081-52807619aa31",
   "metadata": {},
   "source": [
    "**Now, we could drop these columns**"
   ]
  },
  {
   "cell_type": "code",
   "execution_count": 98,
   "id": "2b4f7e76-0b9c-4979-a65e-e48f9e5dd786",
   "metadata": {},
   "outputs": [],
   "source": [
    "data.drop([\"SibSp\", \"Parch\"], axis=1, inplace=True)"
   ]
  },
  {
   "cell_type": "code",
   "execution_count": 99,
   "id": "b2b53ac6-b074-4d92-a150-c2e2f4745d47",
   "metadata": {},
   "outputs": [
    {
     "data": {
      "text/plain": [
       "Index(['PassengerId', 'Survived', 'Pclass', 'Name', 'Sex', 'Age', 'Ticket',\n",
       "       'Fare', 'Embarked', 'IsAlone'],\n",
       "      dtype='object')"
      ]
     },
     "execution_count": 99,
     "metadata": {},
     "output_type": "execute_result"
    }
   ],
   "source": [
    "data.columns"
   ]
  },
  {
   "cell_type": "markdown",
   "id": "701fc225-c377-45b6-9ca4-4b6074da4b73",
   "metadata": {},
   "source": [
    "### 4. Exploratory Data Analysis (EDA)"
   ]
  },
  {
   "cell_type": "markdown",
   "id": "d9ad5758-c5ad-4d99-a9ac-255ea90fe6a9",
   "metadata": {},
   "source": [
    "Firstly, we dont need to PassengerId, Name and Ticket, we will be drop these column. They can't be effective for predict quality. \n",
    "\n",
    "We do this but later. Now, we must **Exploratory Data Analysis**\n",
    "\n",
    "We take a look data is: \n",
    "\n",
    "**Numeric Values**\n",
    "\n",
    "* Fare \n",
    "\n",
    "* Age\n",
    "\n",
    "**Categorical Values**\n",
    "\n",
    "* IsAlone\n",
    "\n",
    "* Sex\n",
    "\n",
    "* Pclass"
   ]
  },
  {
   "cell_type": "markdown",
   "id": "32f6bc64-8da1-4547-bd54-ffaffd1e74b9",
   "metadata": {},
   "source": [
    "#### 4.1 Age"
   ]
  },
  {
   "cell_type": "code",
   "execution_count": 100,
   "id": "294052eb-2121-4317-9892-1a0988273908",
   "metadata": {},
   "outputs": [
    {
     "data": {
      "image/png": "[encoded data removed]",
      "text/plain": [
       "<Figure size 1080x576 with 1 Axes>"
      ]
     },
     "metadata": {
      "needs_background": "light"
     },
     "output_type": "display_data"
    }
   ],
   "source": [
    "plt.figure(figsize=(15,8))\n",
    "\n",
    "# Survived == 1\n",
    "ax = sns.kdeplot(data[\"Age\"][data.Survived == 1], color=\"green\", shade=True)\n",
    "\n",
    "# Survived == 0\n",
    "sns.kdeplot(data[\"Age\"][data.Survived == 0], color=\"red\", shade=True)\n",
    "\n",
    "plt.legend(['Survived', 'Died'])\n",
    "plt.title('Age Density Graphic For Surviving Popülation and Deceased Popülation ')\n",
    "ax.set(xlabel='Age')\n",
    "plt.xlim(-10,85)\n",
    "plt.show()\n"
   ]
  },
  {
   "cell_type": "markdown",
   "id": "9966ac4a-c1bb-4f8a-8c21-102cdbb3a51b",
   "metadata": {},
   "source": [
    "**We could say that survived population is most of them are young or child**"
   ]
  },
  {
   "cell_type": "markdown",
   "id": "644cb090-4366-48a6-825e-92a36a8cadc4",
   "metadata": {},
   "source": [
    "#### 4.2 Fare"
   ]
  },
  {
   "cell_type": "code",
   "execution_count": 101,
   "id": "7c9551ef-55d8-45b4-b3d9-b163e119bca1",
   "metadata": {},
   "outputs": [
    {
     "data": {
      "image/png": "[encoded data removed]",
      "text/plain": [
       "<Figure size 1080x576 with 1 Axes>"
      ]
     },
     "metadata": {
      "needs_background": "light"
     },
     "output_type": "display_data"
    }
   ],
   "source": [
    "plt.figure(figsize=(15,8))\n",
    "\n",
    "ax = sns.kdeplot(data[\"Fare\"][data.Survived == 1], color=\"green\", shade=True)\n",
    "\n",
    "sns.kdeplot(data[\"Fare\"][data.Survived == 0], color=\"red\", shade=True)\n",
    "\n",
    "plt.legend(['Survived', 'Died'])\n",
    "plt.title('Fare Density Graphic For Surviving Population and Deceased Population')\n",
    "ax.set(xlabel='Fare')\n",
    "plt.xlim(-20,200)\n",
    "plt.show()"
   ]
  },
  {
   "cell_type": "markdown",
   "id": "48116d09-bcb5-4374-b0a9-534d9d075622",
   "metadata": {},
   "source": [
    "**Fare is important for surviving**"
   ]
  },
  {
   "cell_type": "markdown",
   "id": "c4d1c855-f64e-48c7-9436-2746add67925",
   "metadata": {},
   "source": [
    "#### 4.3 Sex"
   ]
  },
  {
   "cell_type": "code",
   "execution_count": 102,
   "id": "a01f2928-3611-471b-9abc-3b36a847534b",
   "metadata": {},
   "outputs": [
    {
     "data": {
      "text/plain": [
       "<AxesSubplot:xlabel='Sex', ylabel='count'>"
      ]
     },
     "execution_count": 102,
     "metadata": {},
     "output_type": "execute_result"
    },
    {
     "data": {
      "image/png": "[encoded data removed]",
      "text/plain": [
       "<Figure size 432x288 with 1 Axes>"
      ]
     },
     "metadata": {
      "needs_background": "light"
     },
     "output_type": "display_data"
    }
   ],
   "source": [
    "sns.countplot(x=data[\"Sex\"][data.Survived == 1])"
   ]
  },
  {
   "cell_type": "code",
   "execution_count": 103,
   "id": "81fb80c8-5db0-459e-9fb0-be05c421e130",
   "metadata": {},
   "outputs": [
    {
     "data": {
      "text/plain": [
       "<AxesSubplot:xlabel='Sex', ylabel='count'>"
      ]
     },
     "execution_count": 103,
     "metadata": {},
     "output_type": "execute_result"
    },
    {
     "data": {
      "image/png": "[encoded data removed]",
      "text/plain": [
       "<Figure size 432x288 with 1 Axes>"
      ]
     },
     "metadata": {
      "needs_background": "light"
     },
     "output_type": "display_data"
    }
   ],
   "source": [
    "sns.countplot(x=data[\"Sex\"][data.Survived == 0])"
   ]
  },
  {
   "cell_type": "markdown",
   "id": "f80ff25c-c94e-42da-81e2-e6ddea316f1e",
   "metadata": {},
   "source": [
    "**Looks like sex might be important for surviving**"
   ]
  },
  {
   "cell_type": "markdown",
   "id": "4ddb4288-d868-4091-a813-930687d033c2",
   "metadata": {},
   "source": [
    "#### 4.4 Pclass"
   ]
  },
  {
   "cell_type": "code",
   "execution_count": 104,
   "id": "091de5ac-6517-48b6-aaa8-eec9d584b31f",
   "metadata": {},
   "outputs": [
    {
     "data": {
      "image/png": "[encoded data removed]",
      "text/plain": [
       "<Figure size 432x288 with 1 Axes>"
      ]
     },
     "metadata": {
      "needs_background": "light"
     },
     "output_type": "display_data"
    }
   ],
   "source": [
    "sns.barplot('Pclass', 'Survived', data=data, color=\"green\")\n",
    "\n",
    "plt.show()"
   ]
  },
  {
   "cell_type": "markdown",
   "id": "715d97a4-0fed-4d16-bf6f-bfa11ecb1ff4",
   "metadata": {},
   "source": [
    "**I guess being a upper side is better for surviving**"
   ]
  },
  {
   "cell_type": "markdown",
   "id": "86f7464d-ba2b-48cf-b9cb-0f4af6545f20",
   "metadata": {},
   "source": [
    "#### 4.5 IsAlone"
   ]
  },
  {
   "cell_type": "code",
   "execution_count": 105,
   "id": "98d4a634-5650-40ae-85bb-a76e7c3af3b3",
   "metadata": {},
   "outputs": [
    {
     "data": {
      "text/plain": [
       "<AxesSubplot:xlabel='IsAlone', ylabel='count'>"
      ]
     },
     "execution_count": 105,
     "metadata": {},
     "output_type": "execute_result"
    },
    {
     "data": {
      "image/png": "[encoded data removed]",
      "text/plain": [
       "<Figure size 432x288 with 1 Axes>"
      ]
     },
     "metadata": {
      "needs_background": "light"
     },
     "output_type": "display_data"
    }
   ],
   "source": [
    "sns.countplot(x=data[\"IsAlone\"][data.Survived == 1])"
   ]
  },
  {
   "cell_type": "code",
   "execution_count": 106,
   "id": "910f3714-1e53-40b2-85cc-d85e8f3657d7",
   "metadata": {},
   "outputs": [
    {
     "data": {
      "text/plain": [
       "<AxesSubplot:xlabel='IsAlone', ylabel='count'>"
      ]
     },
     "execution_count": 106,
     "metadata": {},
     "output_type": "execute_result"
    },
    {
     "data": {
      "image/png": "[encoded data removed]",
      "text/plain": [
       "<Figure size 432x288 with 1 Axes>"
      ]
     },
     "metadata": {
      "needs_background": "light"
     },
     "output_type": "display_data"
    }
   ],
   "source": [
    "sns.countplot(x=data[\"IsAlone\"][data.Survived == 0])"
   ]
  },
  {
   "cell_type": "markdown",
   "id": "87b65581-ec91-4733-8a7c-8f9762b6d858",
   "metadata": {},
   "source": [
    "**maybe if your family with you, then you have more chance for surviving**"
   ]
  },
  {
   "cell_type": "markdown",
   "id": "5ee80fdd-a452-47fc-8442-d6b7f71b8f4a",
   "metadata": {},
   "source": [
    "### 5. Categorical Feature"
   ]
  },
  {
   "cell_type": "code",
   "execution_count": 107,
   "id": "4b43a09b-ba01-4952-a37c-0a73062cc326",
   "metadata": {},
   "outputs": [
    {
     "data": {
      "text/plain": [
       "Index(['Name', 'Sex', 'Ticket', 'Embarked'], dtype='object')"
      ]
     },
     "execution_count": 107,
     "metadata": {},
     "output_type": "execute_result"
    }
   ],
   "source": [
    "cat_columns = data.select_dtypes(include=['object']).columns\n",
    "cat_columns"
   ]
  },
  {
   "cell_type": "markdown",
   "id": "bef93c47-2c3b-4846-8158-ff96dd4e114a",
   "metadata": {},
   "source": [
    "**Ordinal and Nominal Feature**\n",
    "\n",
    "Again as write on the kaggle Variable Notes -> https://www.kaggle.com/competitions/titanic/data\n",
    "\n",
    "pclass: A proxy for socio-economic status (SES)\n",
    "\n",
    "1st = Upper\n",
    "\n",
    "2nd = Middle\n",
    "\n",
    "3rd = Lower\n",
    "\n",
    "`So, we could think such as there is a order of importance for pclass`\n",
    "\n",
    "**Ordinal**\n",
    "\n",
    "* Pclass\n",
    "\n",
    "**Nominal**\n",
    "\n",
    "* Sex\n",
    "\n",
    "* Embarked"
   ]
  },
  {
   "cell_type": "markdown",
   "id": "940ab2a9-cf56-414b-9c21-f5eba61de34a",
   "metadata": {},
   "source": [
    "---"
   ]
  },
  {
   "cell_type": "markdown",
   "id": "5ae71ed5-8656-4b74-911e-7d2396d682b6",
   "metadata": {},
   "source": [
    "**For Ordinal**"
   ]
  },
  {
   "cell_type": "code",
   "execution_count": 108,
   "id": "a06301d7-67ef-4d1b-b247-390d0515cb0f",
   "metadata": {},
   "outputs": [
    {
     "data": {
      "text/html": [
       "<div>\n",
       "<style scoped>\n",
       "    .dataframe tbody tr th:only-of-type {\n",
       "        vertical-align: middle;\n",
       "    }\n",
       "\n",
       "    .dataframe tbody tr th {\n",
       "        vertical-align: top;\n",
       "    }\n",
       "\n",
       "    .dataframe thead th {\n",
       "        text-align: right;\n",
       "    }\n",
       "</style>\n",
       "<table border=\"1\" class=\"dataframe\">\n",
       "  <thead>\n",
       "    <tr style=\"text-align: right;\">\n",
       "      <th></th>\n",
       "      <th>PassengerId</th>\n",
       "      <th>Survived</th>\n",
       "      <th>Pclass</th>\n",
       "      <th>Name</th>\n",
       "      <th>Sex</th>\n",
       "      <th>Age</th>\n",
       "      <th>Ticket</th>\n",
       "      <th>Fare</th>\n",
       "      <th>Embarked</th>\n",
       "      <th>IsAlone</th>\n",
       "    </tr>\n",
       "  </thead>\n",
       "  <tbody>\n",
       "    <tr>\n",
       "      <th>0</th>\n",
       "      <td>1</td>\n",
       "      <td>0</td>\n",
       "      <td>-1</td>\n",
       "      <td>Braund, Mr. Owen Harris</td>\n",
       "      <td>male</td>\n",
       "      <td>22.00000</td>\n",
       "      <td>A/5 21171</td>\n",
       "      <td>7.2500</td>\n",
       "      <td>S</td>\n",
       "      <td>0</td>\n",
       "    </tr>\n",
       "    <tr>\n",
       "      <th>1</th>\n",
       "      <td>2</td>\n",
       "      <td>1</td>\n",
       "      <td>1</td>\n",
       "      <td>Cumings, Mrs. John Bradley (Florence Briggs Th...</td>\n",
       "      <td>female</td>\n",
       "      <td>38.00000</td>\n",
       "      <td>PC 17599</td>\n",
       "      <td>71.2833</td>\n",
       "      <td>C</td>\n",
       "      <td>0</td>\n",
       "    </tr>\n",
       "    <tr>\n",
       "      <th>2</th>\n",
       "      <td>3</td>\n",
       "      <td>1</td>\n",
       "      <td>-1</td>\n",
       "      <td>Heikkinen, Miss. Laina</td>\n",
       "      <td>female</td>\n",
       "      <td>26.00000</td>\n",
       "      <td>STON/O2. 3101282</td>\n",
       "      <td>7.9250</td>\n",
       "      <td>S</td>\n",
       "      <td>1</td>\n",
       "    </tr>\n",
       "    <tr>\n",
       "      <th>3</th>\n",
       "      <td>4</td>\n",
       "      <td>1</td>\n",
       "      <td>1</td>\n",
       "      <td>Futrelle, Mrs. Jacques Heath (Lily May Peel)</td>\n",
       "      <td>female</td>\n",
       "      <td>35.00000</td>\n",
       "      <td>113803</td>\n",
       "      <td>53.1000</td>\n",
       "      <td>S</td>\n",
       "      <td>0</td>\n",
       "    </tr>\n",
       "    <tr>\n",
       "      <th>4</th>\n",
       "      <td>5</td>\n",
       "      <td>0</td>\n",
       "      <td>-1</td>\n",
       "      <td>Allen, Mr. William Henry</td>\n",
       "      <td>male</td>\n",
       "      <td>35.00000</td>\n",
       "      <td>373450</td>\n",
       "      <td>8.0500</td>\n",
       "      <td>S</td>\n",
       "      <td>1</td>\n",
       "    </tr>\n",
       "    <tr>\n",
       "      <th>5</th>\n",
       "      <td>6</td>\n",
       "      <td>0</td>\n",
       "      <td>-1</td>\n",
       "      <td>Moran, Mr. James</td>\n",
       "      <td>male</td>\n",
       "      <td>25.14062</td>\n",
       "      <td>330877</td>\n",
       "      <td>8.4583</td>\n",
       "      <td>Q</td>\n",
       "      <td>1</td>\n",
       "    </tr>\n",
       "    <tr>\n",
       "      <th>6</th>\n",
       "      <td>7</td>\n",
       "      <td>0</td>\n",
       "      <td>1</td>\n",
       "      <td>McCarthy, Mr. Timothy J</td>\n",
       "      <td>male</td>\n",
       "      <td>54.00000</td>\n",
       "      <td>17463</td>\n",
       "      <td>51.8625</td>\n",
       "      <td>S</td>\n",
       "      <td>1</td>\n",
       "    </tr>\n",
       "    <tr>\n",
       "      <th>7</th>\n",
       "      <td>8</td>\n",
       "      <td>0</td>\n",
       "      <td>-1</td>\n",
       "      <td>Palsson, Master. Gosta Leonard</td>\n",
       "      <td>male</td>\n",
       "      <td>2.00000</td>\n",
       "      <td>349909</td>\n",
       "      <td>21.0750</td>\n",
       "      <td>S</td>\n",
       "      <td>0</td>\n",
       "    </tr>\n",
       "    <tr>\n",
       "      <th>8</th>\n",
       "      <td>9</td>\n",
       "      <td>1</td>\n",
       "      <td>-1</td>\n",
       "      <td>Johnson, Mrs. Oscar W (Elisabeth Vilhelmina Berg)</td>\n",
       "      <td>female</td>\n",
       "      <td>27.00000</td>\n",
       "      <td>347742</td>\n",
       "      <td>11.1333</td>\n",
       "      <td>S</td>\n",
       "      <td>0</td>\n",
       "    </tr>\n",
       "    <tr>\n",
       "      <th>9</th>\n",
       "      <td>10</td>\n",
       "      <td>1</td>\n",
       "      <td>0</td>\n",
       "      <td>Nasser, Mrs. Nicholas (Adele Achem)</td>\n",
       "      <td>female</td>\n",
       "      <td>14.00000</td>\n",
       "      <td>237736</td>\n",
       "      <td>30.0708</td>\n",
       "      <td>C</td>\n",
       "      <td>0</td>\n",
       "    </tr>\n",
       "  </tbody>\n",
       "</table>\n",
       "</div>"
      ],
      "text/plain": [
       "   PassengerId  Survived  Pclass  \\\n",
       "0            1         0      -1   \n",
       "1            2         1       1   \n",
       "2            3         1      -1   \n",
       "3            4         1       1   \n",
       "4            5         0      -1   \n",
       "5            6         0      -1   \n",
       "6            7         0       1   \n",
       "7            8         0      -1   \n",
       "8            9         1      -1   \n",
       "9           10         1       0   \n",
       "\n",
       "                                                Name     Sex       Age  \\\n",
       "0                            Braund, Mr. Owen Harris    male  22.00000   \n",
       "1  Cumings, Mrs. John Bradley (Florence Briggs Th...  female  38.00000   \n",
       "2                             Heikkinen, Miss. Laina  female  26.00000   \n",
       "3       Futrelle, Mrs. Jacques Heath (Lily May Peel)  female  35.00000   \n",
       "4                           Allen, Mr. William Henry    male  35.00000   \n",
       "5                                   Moran, Mr. James    male  25.14062   \n",
       "6                            McCarthy, Mr. Timothy J    male  54.00000   \n",
       "7                     Palsson, Master. Gosta Leonard    male   2.00000   \n",
       "8  Johnson, Mrs. Oscar W (Elisabeth Vilhelmina Berg)  female  27.00000   \n",
       "9                Nasser, Mrs. Nicholas (Adele Achem)  female  14.00000   \n",
       "\n",
       "             Ticket     Fare Embarked  IsAlone  \n",
       "0         A/5 21171   7.2500        S        0  \n",
       "1          PC 17599  71.2833        C        0  \n",
       "2  STON/O2. 3101282   7.9250        S        1  \n",
       "3            113803  53.1000        S        0  \n",
       "4            373450   8.0500        S        1  \n",
       "5            330877   8.4583        Q        1  \n",
       "6             17463  51.8625        S        1  \n",
       "7            349909  21.0750        S        0  \n",
       "8            347742  11.1333        S        0  \n",
       "9            237736  30.0708        C        0  "
      ]
     },
     "execution_count": 108,
     "metadata": {},
     "output_type": "execute_result"
    }
   ],
   "source": [
    "data['Pclass'] = df['Pclass'].map({1: 1, 2: 0, 3: -1})\n",
    "data.head(10)"
   ]
  },
  {
   "cell_type": "markdown",
   "id": "8f88be60-b9cb-4b41-867e-859f0a54d9ae",
   "metadata": {},
   "source": [
    "**For Nominal**"
   ]
  },
  {
   "cell_type": "code",
   "execution_count": 109,
   "id": "db16382a-895a-4c37-bf8c-6c9697be8fa6",
   "metadata": {},
   "outputs": [
    {
     "data": {
      "text/html": [
       "<div>\n",
       "<style scoped>\n",
       "    .dataframe tbody tr th:only-of-type {\n",
       "        vertical-align: middle;\n",
       "    }\n",
       "\n",
       "    .dataframe tbody tr th {\n",
       "        vertical-align: top;\n",
       "    }\n",
       "\n",
       "    .dataframe thead th {\n",
       "        text-align: right;\n",
       "    }\n",
       "</style>\n",
       "<table border=\"1\" class=\"dataframe\">\n",
       "  <thead>\n",
       "    <tr style=\"text-align: right;\">\n",
       "      <th></th>\n",
       "      <th>PassengerId</th>\n",
       "      <th>Survived</th>\n",
       "      <th>Pclass</th>\n",
       "      <th>Name</th>\n",
       "      <th>Age</th>\n",
       "      <th>Ticket</th>\n",
       "      <th>Fare</th>\n",
       "      <th>Embarked</th>\n",
       "      <th>IsAlone</th>\n",
       "      <th>Sex_male</th>\n",
       "    </tr>\n",
       "  </thead>\n",
       "  <tbody>\n",
       "    <tr>\n",
       "      <th>0</th>\n",
       "      <td>1</td>\n",
       "      <td>0</td>\n",
       "      <td>-1</td>\n",
       "      <td>Braund, Mr. Owen Harris</td>\n",
       "      <td>22.00000</td>\n",
       "      <td>A/5 21171</td>\n",
       "      <td>7.2500</td>\n",
       "      <td>S</td>\n",
       "      <td>0</td>\n",
       "      <td>1</td>\n",
       "    </tr>\n",
       "    <tr>\n",
       "      <th>1</th>\n",
       "      <td>2</td>\n",
       "      <td>1</td>\n",
       "      <td>1</td>\n",
       "      <td>Cumings, Mrs. John Bradley (Florence Briggs Th...</td>\n",
       "      <td>38.00000</td>\n",
       "      <td>PC 17599</td>\n",
       "      <td>71.2833</td>\n",
       "      <td>C</td>\n",
       "      <td>0</td>\n",
       "      <td>0</td>\n",
       "    </tr>\n",
       "    <tr>\n",
       "      <th>2</th>\n",
       "      <td>3</td>\n",
       "      <td>1</td>\n",
       "      <td>-1</td>\n",
       "      <td>Heikkinen, Miss. Laina</td>\n",
       "      <td>26.00000</td>\n",
       "      <td>STON/O2. 3101282</td>\n",
       "      <td>7.9250</td>\n",
       "      <td>S</td>\n",
       "      <td>1</td>\n",
       "      <td>0</td>\n",
       "    </tr>\n",
       "    <tr>\n",
       "      <th>3</th>\n",
       "      <td>4</td>\n",
       "      <td>1</td>\n",
       "      <td>1</td>\n",
       "      <td>Futrelle, Mrs. Jacques Heath (Lily May Peel)</td>\n",
       "      <td>35.00000</td>\n",
       "      <td>113803</td>\n",
       "      <td>53.1000</td>\n",
       "      <td>S</td>\n",
       "      <td>0</td>\n",
       "      <td>0</td>\n",
       "    </tr>\n",
       "    <tr>\n",
       "      <th>4</th>\n",
       "      <td>5</td>\n",
       "      <td>0</td>\n",
       "      <td>-1</td>\n",
       "      <td>Allen, Mr. William Henry</td>\n",
       "      <td>35.00000</td>\n",
       "      <td>373450</td>\n",
       "      <td>8.0500</td>\n",
       "      <td>S</td>\n",
       "      <td>1</td>\n",
       "      <td>1</td>\n",
       "    </tr>\n",
       "    <tr>\n",
       "      <th>...</th>\n",
       "      <td>...</td>\n",
       "      <td>...</td>\n",
       "      <td>...</td>\n",
       "      <td>...</td>\n",
       "      <td>...</td>\n",
       "      <td>...</td>\n",
       "      <td>...</td>\n",
       "      <td>...</td>\n",
       "      <td>...</td>\n",
       "      <td>...</td>\n",
       "    </tr>\n",
       "    <tr>\n",
       "      <th>886</th>\n",
       "      <td>887</td>\n",
       "      <td>0</td>\n",
       "      <td>0</td>\n",
       "      <td>Montvila, Rev. Juozas</td>\n",
       "      <td>27.00000</td>\n",
       "      <td>211536</td>\n",
       "      <td>13.0000</td>\n",
       "      <td>S</td>\n",
       "      <td>1</td>\n",
       "      <td>1</td>\n",
       "    </tr>\n",
       "    <tr>\n",
       "      <th>887</th>\n",
       "      <td>888</td>\n",
       "      <td>1</td>\n",
       "      <td>1</td>\n",
       "      <td>Graham, Miss. Margaret Edith</td>\n",
       "      <td>19.00000</td>\n",
       "      <td>112053</td>\n",
       "      <td>30.0000</td>\n",
       "      <td>S</td>\n",
       "      <td>1</td>\n",
       "      <td>0</td>\n",
       "    </tr>\n",
       "    <tr>\n",
       "      <th>888</th>\n",
       "      <td>889</td>\n",
       "      <td>0</td>\n",
       "      <td>-1</td>\n",
       "      <td>Johnston, Miss. Catherine Helen \"Carrie\"</td>\n",
       "      <td>25.14062</td>\n",
       "      <td>W./C. 6607</td>\n",
       "      <td>23.4500</td>\n",
       "      <td>S</td>\n",
       "      <td>0</td>\n",
       "      <td>0</td>\n",
       "    </tr>\n",
       "    <tr>\n",
       "      <th>889</th>\n",
       "      <td>890</td>\n",
       "      <td>1</td>\n",
       "      <td>1</td>\n",
       "      <td>Behr, Mr. Karl Howell</td>\n",
       "      <td>26.00000</td>\n",
       "      <td>111369</td>\n",
       "      <td>30.0000</td>\n",
       "      <td>C</td>\n",
       "      <td>1</td>\n",
       "      <td>1</td>\n",
       "    </tr>\n",
       "    <tr>\n",
       "      <th>890</th>\n",
       "      <td>891</td>\n",
       "      <td>0</td>\n",
       "      <td>-1</td>\n",
       "      <td>Dooley, Mr. Patrick</td>\n",
       "      <td>32.00000</td>\n",
       "      <td>370376</td>\n",
       "      <td>7.7500</td>\n",
       "      <td>Q</td>\n",
       "      <td>1</td>\n",
       "      <td>1</td>\n",
       "    </tr>\n",
       "  </tbody>\n",
       "</table>\n",
       "<p>891 rows × 10 columns</p>\n",
       "</div>"
      ],
      "text/plain": [
       "     PassengerId  Survived  Pclass  \\\n",
       "0              1         0      -1   \n",
       "1              2         1       1   \n",
       "2              3         1      -1   \n",
       "3              4         1       1   \n",
       "4              5         0      -1   \n",
       "..           ...       ...     ...   \n",
       "886          887         0       0   \n",
       "887          888         1       1   \n",
       "888          889         0      -1   \n",
       "889          890         1       1   \n",
       "890          891         0      -1   \n",
       "\n",
       "                                                  Name       Age  \\\n",
       "0                              Braund, Mr. Owen Harris  22.00000   \n",
       "1    Cumings, Mrs. John Bradley (Florence Briggs Th...  38.00000   \n",
       "2                               Heikkinen, Miss. Laina  26.00000   \n",
       "3         Futrelle, Mrs. Jacques Heath (Lily May Peel)  35.00000   \n",
       "4                             Allen, Mr. William Henry  35.00000   \n",
       "..                                                 ...       ...   \n",
       "886                              Montvila, Rev. Juozas  27.00000   \n",
       "887                       Graham, Miss. Margaret Edith  19.00000   \n",
       "888           Johnston, Miss. Catherine Helen \"Carrie\"  25.14062   \n",
       "889                              Behr, Mr. Karl Howell  26.00000   \n",
       "890                                Dooley, Mr. Patrick  32.00000   \n",
       "\n",
       "               Ticket     Fare Embarked  IsAlone  Sex_male  \n",
       "0           A/5 21171   7.2500        S        0         1  \n",
       "1            PC 17599  71.2833        C        0         0  \n",
       "2    STON/O2. 3101282   7.9250        S        1         0  \n",
       "3              113803  53.1000        S        0         0  \n",
       "4              373450   8.0500        S        1         1  \n",
       "..                ...      ...      ...      ...       ...  \n",
       "886            211536  13.0000        S        1         1  \n",
       "887            112053  30.0000        S        1         0  \n",
       "888        W./C. 6607  23.4500        S        0         0  \n",
       "889            111369  30.0000        C        1         1  \n",
       "890            370376   7.7500        Q        1         1  \n",
       "\n",
       "[891 rows x 10 columns]"
      ]
     },
     "execution_count": 109,
     "metadata": {},
     "output_type": "execute_result"
    }
   ],
   "source": [
    "data = pd.get_dummies(data, columns=['Sex'], drop_first=True)\n",
    "data"
   ]
  },
  {
   "cell_type": "code",
   "execution_count": 110,
   "id": "fa49865d-2804-4edf-b638-5b185028d6bf",
   "metadata": {},
   "outputs": [
    {
     "data": {
      "text/html": [
       "<div>\n",
       "<style scoped>\n",
       "    .dataframe tbody tr th:only-of-type {\n",
       "        vertical-align: middle;\n",
       "    }\n",
       "\n",
       "    .dataframe tbody tr th {\n",
       "        vertical-align: top;\n",
       "    }\n",
       "\n",
       "    .dataframe thead th {\n",
       "        text-align: right;\n",
       "    }\n",
       "</style>\n",
       "<table border=\"1\" class=\"dataframe\">\n",
       "  <thead>\n",
       "    <tr style=\"text-align: right;\">\n",
       "      <th></th>\n",
       "      <th>PassengerId</th>\n",
       "      <th>Survived</th>\n",
       "      <th>Pclass</th>\n",
       "      <th>Name</th>\n",
       "      <th>Age</th>\n",
       "      <th>Ticket</th>\n",
       "      <th>Fare</th>\n",
       "      <th>IsAlone</th>\n",
       "      <th>Sex_male</th>\n",
       "      <th>Embarked_Q</th>\n",
       "      <th>Embarked_S</th>\n",
       "    </tr>\n",
       "  </thead>\n",
       "  <tbody>\n",
       "    <tr>\n",
       "      <th>0</th>\n",
       "      <td>1</td>\n",
       "      <td>0</td>\n",
       "      <td>-1</td>\n",
       "      <td>Braund, Mr. Owen Harris</td>\n",
       "      <td>22.00000</td>\n",
       "      <td>A/5 21171</td>\n",
       "      <td>7.2500</td>\n",
       "      <td>0</td>\n",
       "      <td>1</td>\n",
       "      <td>0</td>\n",
       "      <td>1</td>\n",
       "    </tr>\n",
       "    <tr>\n",
       "      <th>1</th>\n",
       "      <td>2</td>\n",
       "      <td>1</td>\n",
       "      <td>1</td>\n",
       "      <td>Cumings, Mrs. John Bradley (Florence Briggs Th...</td>\n",
       "      <td>38.00000</td>\n",
       "      <td>PC 17599</td>\n",
       "      <td>71.2833</td>\n",
       "      <td>0</td>\n",
       "      <td>0</td>\n",
       "      <td>0</td>\n",
       "      <td>0</td>\n",
       "    </tr>\n",
       "    <tr>\n",
       "      <th>2</th>\n",
       "      <td>3</td>\n",
       "      <td>1</td>\n",
       "      <td>-1</td>\n",
       "      <td>Heikkinen, Miss. Laina</td>\n",
       "      <td>26.00000</td>\n",
       "      <td>STON/O2. 3101282</td>\n",
       "      <td>7.9250</td>\n",
       "      <td>1</td>\n",
       "      <td>0</td>\n",
       "      <td>0</td>\n",
       "      <td>1</td>\n",
       "    </tr>\n",
       "    <tr>\n",
       "      <th>3</th>\n",
       "      <td>4</td>\n",
       "      <td>1</td>\n",
       "      <td>1</td>\n",
       "      <td>Futrelle, Mrs. Jacques Heath (Lily May Peel)</td>\n",
       "      <td>35.00000</td>\n",
       "      <td>113803</td>\n",
       "      <td>53.1000</td>\n",
       "      <td>0</td>\n",
       "      <td>0</td>\n",
       "      <td>0</td>\n",
       "      <td>1</td>\n",
       "    </tr>\n",
       "    <tr>\n",
       "      <th>4</th>\n",
       "      <td>5</td>\n",
       "      <td>0</td>\n",
       "      <td>-1</td>\n",
       "      <td>Allen, Mr. William Henry</td>\n",
       "      <td>35.00000</td>\n",
       "      <td>373450</td>\n",
       "      <td>8.0500</td>\n",
       "      <td>1</td>\n",
       "      <td>1</td>\n",
       "      <td>0</td>\n",
       "      <td>1</td>\n",
       "    </tr>\n",
       "    <tr>\n",
       "      <th>...</th>\n",
       "      <td>...</td>\n",
       "      <td>...</td>\n",
       "      <td>...</td>\n",
       "      <td>...</td>\n",
       "      <td>...</td>\n",
       "      <td>...</td>\n",
       "      <td>...</td>\n",
       "      <td>...</td>\n",
       "      <td>...</td>\n",
       "      <td>...</td>\n",
       "      <td>...</td>\n",
       "    </tr>\n",
       "    <tr>\n",
       "      <th>886</th>\n",
       "      <td>887</td>\n",
       "      <td>0</td>\n",
       "      <td>0</td>\n",
       "      <td>Montvila, Rev. Juozas</td>\n",
       "      <td>27.00000</td>\n",
       "      <td>211536</td>\n",
       "      <td>13.0000</td>\n",
       "      <td>1</td>\n",
       "      <td>1</td>\n",
       "      <td>0</td>\n",
       "      <td>1</td>\n",
       "    </tr>\n",
       "    <tr>\n",
       "      <th>887</th>\n",
       "      <td>888</td>\n",
       "      <td>1</td>\n",
       "      <td>1</td>\n",
       "      <td>Graham, Miss. Margaret Edith</td>\n",
       "      <td>19.00000</td>\n",
       "      <td>112053</td>\n",
       "      <td>30.0000</td>\n",
       "      <td>1</td>\n",
       "      <td>0</td>\n",
       "      <td>0</td>\n",
       "      <td>1</td>\n",
       "    </tr>\n",
       "    <tr>\n",
       "      <th>888</th>\n",
       "      <td>889</td>\n",
       "      <td>0</td>\n",
       "      <td>-1</td>\n",
       "      <td>Johnston, Miss. Catherine Helen \"Carrie\"</td>\n",
       "      <td>25.14062</td>\n",
       "      <td>W./C. 6607</td>\n",
       "      <td>23.4500</td>\n",
       "      <td>0</td>\n",
       "      <td>0</td>\n",
       "      <td>0</td>\n",
       "      <td>1</td>\n",
       "    </tr>\n",
       "    <tr>\n",
       "      <th>889</th>\n",
       "      <td>890</td>\n",
       "      <td>1</td>\n",
       "      <td>1</td>\n",
       "      <td>Behr, Mr. Karl Howell</td>\n",
       "      <td>26.00000</td>\n",
       "      <td>111369</td>\n",
       "      <td>30.0000</td>\n",
       "      <td>1</td>\n",
       "      <td>1</td>\n",
       "      <td>0</td>\n",
       "      <td>0</td>\n",
       "    </tr>\n",
       "    <tr>\n",
       "      <th>890</th>\n",
       "      <td>891</td>\n",
       "      <td>0</td>\n",
       "      <td>-1</td>\n",
       "      <td>Dooley, Mr. Patrick</td>\n",
       "      <td>32.00000</td>\n",
       "      <td>370376</td>\n",
       "      <td>7.7500</td>\n",
       "      <td>1</td>\n",
       "      <td>1</td>\n",
       "      <td>1</td>\n",
       "      <td>0</td>\n",
       "    </tr>\n",
       "  </tbody>\n",
       "</table>\n",
       "<p>891 rows × 11 columns</p>\n",
       "</div>"
      ],
      "text/plain": [
       "     PassengerId  Survived  Pclass  \\\n",
       "0              1         0      -1   \n",
       "1              2         1       1   \n",
       "2              3         1      -1   \n",
       "3              4         1       1   \n",
       "4              5         0      -1   \n",
       "..           ...       ...     ...   \n",
       "886          887         0       0   \n",
       "887          888         1       1   \n",
       "888          889         0      -1   \n",
       "889          890         1       1   \n",
       "890          891         0      -1   \n",
       "\n",
       "                                                  Name       Age  \\\n",
       "0                              Braund, Mr. Owen Harris  22.00000   \n",
       "1    Cumings, Mrs. John Bradley (Florence Briggs Th...  38.00000   \n",
       "2                               Heikkinen, Miss. Laina  26.00000   \n",
       "3         Futrelle, Mrs. Jacques Heath (Lily May Peel)  35.00000   \n",
       "4                             Allen, Mr. William Henry  35.00000   \n",
       "..                                                 ...       ...   \n",
       "886                              Montvila, Rev. Juozas  27.00000   \n",
       "887                       Graham, Miss. Margaret Edith  19.00000   \n",
       "888           Johnston, Miss. Catherine Helen \"Carrie\"  25.14062   \n",
       "889                              Behr, Mr. Karl Howell  26.00000   \n",
       "890                                Dooley, Mr. Patrick  32.00000   \n",
       "\n",
       "               Ticket     Fare  IsAlone  Sex_male  Embarked_Q  Embarked_S  \n",
       "0           A/5 21171   7.2500        0         1           0           1  \n",
       "1            PC 17599  71.2833        0         0           0           0  \n",
       "2    STON/O2. 3101282   7.9250        1         0           0           1  \n",
       "3              113803  53.1000        0         0           0           1  \n",
       "4              373450   8.0500        1         1           0           1  \n",
       "..                ...      ...      ...       ...         ...         ...  \n",
       "886            211536  13.0000        1         1           0           1  \n",
       "887            112053  30.0000        1         0           0           1  \n",
       "888        W./C. 6607  23.4500        0         0           0           1  \n",
       "889            111369  30.0000        1         1           0           0  \n",
       "890            370376   7.7500        1         1           1           0  \n",
       "\n",
       "[891 rows x 11 columns]"
      ]
     },
     "execution_count": 110,
     "metadata": {},
     "output_type": "execute_result"
    }
   ],
   "source": [
    "data = pd.get_dummies(data, columns=['Embarked'], drop_first=True)\n",
    "data"
   ]
  },
  {
   "cell_type": "markdown",
   "id": "1830f5c3-0ee9-4f61-8193-b52acdf6631d",
   "metadata": {},
   "source": [
    "### 6. Drop The Unnecessary Columns"
   ]
  },
  {
   "cell_type": "markdown",
   "id": "4739ff20-f88c-4087-8493-f26fbb1a77cc",
   "metadata": {},
   "source": [
    "* PassengerId\n",
    "\n",
    "* Name \n",
    "\n",
    "* Ticket"
   ]
  },
  {
   "cell_type": "code",
   "execution_count": 111,
   "id": "c93a43e0-a934-4977-b1fe-39cabc1337c8",
   "metadata": {},
   "outputs": [],
   "source": [
    "data.drop([\"PassengerId\", \"Name\", \"Ticket\"], axis=1, inplace=True)"
   ]
  },
  {
   "cell_type": "code",
   "execution_count": 112,
   "id": "4189cfb8-3d28-4926-8542-bd2706fa185f",
   "metadata": {},
   "outputs": [
    {
     "data": {
      "text/plain": [
       "Index(['Survived', 'Pclass', 'Age', 'Fare', 'IsAlone', 'Sex_male',\n",
       "       'Embarked_Q', 'Embarked_S'],\n",
       "      dtype='object')"
      ]
     },
     "execution_count": 112,
     "metadata": {},
     "output_type": "execute_result"
    }
   ],
   "source": [
    "data.columns"
   ]
  },
  {
   "cell_type": "markdown",
   "id": "e98ba2c2-fcde-4efc-8217-5d26034e6662",
   "metadata": {},
   "source": [
    "### 7. Train-Test Split"
   ]
  },
  {
   "cell_type": "code",
   "execution_count": 113,
   "id": "4a0885b2-aac8-4a21-98d5-57026ab574fb",
   "metadata": {
    "tags": []
   },
   "outputs": [],
   "source": [
    "y = data['Survived']"
   ]
  },
  {
   "cell_type": "code",
   "execution_count": 114,
   "id": "6e85085b-357f-4ac2-aeb5-6f7dcc415342",
   "metadata": {
    "tags": []
   },
   "outputs": [],
   "source": [
    "data.drop(['Survived'], axis=1, inplace=True)\n",
    "X = data"
   ]
  },
  {
   "cell_type": "code",
   "execution_count": 115,
   "id": "03b7f69e-786a-49f8-b325-275ab784ef10",
   "metadata": {},
   "outputs": [
    {
     "data": {
      "text/plain": [
       "(891, 7)"
      ]
     },
     "execution_count": 115,
     "metadata": {},
     "output_type": "execute_result"
    }
   ],
   "source": [
    "X.shape"
   ]
  },
  {
   "cell_type": "code",
   "execution_count": 116,
   "id": "28d0a3a3-d6c2-42ce-98e9-22455f8f88d0",
   "metadata": {},
   "outputs": [
    {
     "data": {
      "text/plain": [
       "(891,)"
      ]
     },
     "execution_count": 116,
     "metadata": {},
     "output_type": "execute_result"
    }
   ],
   "source": [
    "y.shape"
   ]
  },
  {
   "cell_type": "code",
   "execution_count": 117,
   "id": "8f36d2d5-9240-4a9e-918e-70e345368d49",
   "metadata": {},
   "outputs": [],
   "source": [
    "from sklearn.model_selection import train_test_split"
   ]
  },
  {
   "cell_type": "code",
   "execution_count": 118,
   "id": "a85a5c06-66f0-4681-8444-f5dc8f8cf3a2",
   "metadata": {
    "tags": []
   },
   "outputs": [],
   "source": [
    "X_train, X_test, y_train, y_test = train_test_split(X, y, test_size=0.2, random_state=42)"
   ]
  },
  {
   "cell_type": "code",
   "execution_count": 119,
   "id": "62314bcf-06bf-441b-9548-0a1454218738",
   "metadata": {},
   "outputs": [
    {
     "data": {
      "text/plain": [
       "((712, 7), (179, 7))"
      ]
     },
     "execution_count": 119,
     "metadata": {},
     "output_type": "execute_result"
    }
   ],
   "source": [
    "X_train.shape, X_test.shape"
   ]
  },
  {
   "cell_type": "code",
   "execution_count": 120,
   "id": "a8504203-861e-4376-be09-e8ead52d656b",
   "metadata": {},
   "outputs": [
    {
     "data": {
      "text/plain": [
       "((712,), (179,))"
      ]
     },
     "execution_count": 120,
     "metadata": {},
     "output_type": "execute_result"
    }
   ],
   "source": [
    "y_train.shape, y_test.shape"
   ]
  },
  {
   "cell_type": "markdown",
   "id": "25b1f1b9-c665-4a22-994a-51686c2c705e",
   "metadata": {},
   "source": [
    "### 8. Feature Scaling"
   ]
  },
  {
   "cell_type": "code",
   "execution_count": 121,
   "id": "fc7e40c1-ebae-4c8f-b7ae-22abd9b51c1b",
   "metadata": {},
   "outputs": [
    {
     "data": {
      "text/plain": [
       "Index(['Pclass', 'Age', 'Fare', 'IsAlone', 'Sex_male', 'Embarked_Q',\n",
       "       'Embarked_S'],\n",
       "      dtype='object')"
      ]
     },
     "execution_count": 121,
     "metadata": {},
     "output_type": "execute_result"
    }
   ],
   "source": [
    "cols = X_train.columns\n",
    "cols"
   ]
  },
  {
   "cell_type": "code",
   "execution_count": 122,
   "id": "21d5442f-9bbf-425b-8c04-94da13a7dcec",
   "metadata": {},
   "outputs": [],
   "source": [
    "from sklearn.preprocessing import StandardScaler"
   ]
  },
  {
   "cell_type": "code",
   "execution_count": 123,
   "id": "c7c6099b-2efe-48c0-a0cb-0530cd20585e",
   "metadata": {},
   "outputs": [],
   "source": [
    "scaler = StandardScaler()\n",
    "\n",
    "X_train = scaler.fit_transform(X_train)\n",
    "\n",
    "X_test = scaler.transform(X_test)"
   ]
  },
  {
   "cell_type": "code",
   "execution_count": 124,
   "id": "913da8c9-8970-4a1f-8a9a-2ced6f8ccd15",
   "metadata": {},
   "outputs": [
    {
     "data": {
      "text/plain": [
       "numpy.ndarray"
      ]
     },
     "execution_count": 124,
     "metadata": {},
     "output_type": "execute_result"
    }
   ],
   "source": [
    "type(X_train)"
   ]
  },
  {
   "cell_type": "code",
   "execution_count": 125,
   "id": "a093117f-cb47-4248-86f9-f864a2d90ba2",
   "metadata": {},
   "outputs": [
    {
     "data": {
      "text/html": [
       "<div>\n",
       "<style scoped>\n",
       "    .dataframe tbody tr th:only-of-type {\n",
       "        vertical-align: middle;\n",
       "    }\n",
       "\n",
       "    .dataframe tbody tr th {\n",
       "        vertical-align: top;\n",
       "    }\n",
       "\n",
       "    .dataframe thead th {\n",
       "        text-align: right;\n",
       "    }\n",
       "</style>\n",
       "<table border=\"1\" class=\"dataframe\">\n",
       "  <thead>\n",
       "    <tr style=\"text-align: right;\">\n",
       "      <th></th>\n",
       "      <th>Pclass</th>\n",
       "      <th>Age</th>\n",
       "      <th>Fare</th>\n",
       "      <th>IsAlone</th>\n",
       "      <th>Sex_male</th>\n",
       "      <th>Embarked_Q</th>\n",
       "      <th>Embarked_S</th>\n",
       "    </tr>\n",
       "  </thead>\n",
       "  <tbody>\n",
       "    <tr>\n",
       "      <th>0</th>\n",
       "      <td>1.614136</td>\n",
       "      <td>1.246821</td>\n",
       "      <td>-0.078684</td>\n",
       "      <td>0.812203</td>\n",
       "      <td>0.724310</td>\n",
       "      <td>-0.303355</td>\n",
       "      <td>0.592489</td>\n",
       "    </tr>\n",
       "    <tr>\n",
       "      <th>1</th>\n",
       "      <td>0.400551</td>\n",
       "      <td>-0.461278</td>\n",
       "      <td>-0.377145</td>\n",
       "      <td>0.812203</td>\n",
       "      <td>0.724310</td>\n",
       "      <td>-0.303355</td>\n",
       "      <td>0.592489</td>\n",
       "    </tr>\n",
       "    <tr>\n",
       "      <th>2</th>\n",
       "      <td>-0.813034</td>\n",
       "      <td>0.221962</td>\n",
       "      <td>-0.474867</td>\n",
       "      <td>0.812203</td>\n",
       "      <td>0.724310</td>\n",
       "      <td>-0.303355</td>\n",
       "      <td>0.592489</td>\n",
       "    </tr>\n",
       "    <tr>\n",
       "      <th>3</th>\n",
       "      <td>-0.813034</td>\n",
       "      <td>-0.233531</td>\n",
       "      <td>-0.476230</td>\n",
       "      <td>-1.231219</td>\n",
       "      <td>0.724310</td>\n",
       "      <td>-0.303355</td>\n",
       "      <td>0.592489</td>\n",
       "    </tr>\n",
       "    <tr>\n",
       "      <th>4</th>\n",
       "      <td>-0.813034</td>\n",
       "      <td>-1.751842</td>\n",
       "      <td>-0.025249</td>\n",
       "      <td>-1.231219</td>\n",
       "      <td>-1.380624</td>\n",
       "      <td>-0.303355</td>\n",
       "      <td>0.592489</td>\n",
       "    </tr>\n",
       "    <tr>\n",
       "      <th>...</th>\n",
       "      <td>...</td>\n",
       "      <td>...</td>\n",
       "      <td>...</td>\n",
       "      <td>...</td>\n",
       "      <td>...</td>\n",
       "      <td>...</td>\n",
       "      <td>...</td>\n",
       "    </tr>\n",
       "    <tr>\n",
       "      <th>707</th>\n",
       "      <td>-0.813034</td>\n",
       "      <td>-0.613109</td>\n",
       "      <td>-0.480162</td>\n",
       "      <td>0.812203</td>\n",
       "      <td>-1.380624</td>\n",
       "      <td>-0.303355</td>\n",
       "      <td>0.592489</td>\n",
       "    </tr>\n",
       "    <tr>\n",
       "      <th>708</th>\n",
       "      <td>1.614136</td>\n",
       "      <td>0.695177</td>\n",
       "      <td>-0.030545</td>\n",
       "      <td>0.812203</td>\n",
       "      <td>0.724310</td>\n",
       "      <td>-0.303355</td>\n",
       "      <td>0.592489</td>\n",
       "    </tr>\n",
       "    <tr>\n",
       "      <th>709</th>\n",
       "      <td>-0.813034</td>\n",
       "      <td>0.905202</td>\n",
       "      <td>-0.355804</td>\n",
       "      <td>-1.231219</td>\n",
       "      <td>0.724310</td>\n",
       "      <td>-0.303355</td>\n",
       "      <td>0.592489</td>\n",
       "    </tr>\n",
       "    <tr>\n",
       "      <th>710</th>\n",
       "      <td>1.614136</td>\n",
       "      <td>-1.144517</td>\n",
       "      <td>1.683201</td>\n",
       "      <td>-1.231219</td>\n",
       "      <td>-1.380624</td>\n",
       "      <td>-0.303355</td>\n",
       "      <td>0.592489</td>\n",
       "    </tr>\n",
       "    <tr>\n",
       "      <th>711</th>\n",
       "      <td>1.614136</td>\n",
       "      <td>-0.613109</td>\n",
       "      <td>0.860748</td>\n",
       "      <td>-1.231219</td>\n",
       "      <td>0.724310</td>\n",
       "      <td>-0.303355</td>\n",
       "      <td>0.592489</td>\n",
       "    </tr>\n",
       "  </tbody>\n",
       "</table>\n",
       "<p>712 rows × 7 columns</p>\n",
       "</div>"
      ],
      "text/plain": [
       "       Pclass       Age      Fare   IsAlone  Sex_male  Embarked_Q  Embarked_S\n",
       "0    1.614136  1.246821 -0.078684  0.812203  0.724310   -0.303355    0.592489\n",
       "1    0.400551 -0.461278 -0.377145  0.812203  0.724310   -0.303355    0.592489\n",
       "2   -0.813034  0.221962 -0.474867  0.812203  0.724310   -0.303355    0.592489\n",
       "3   -0.813034 -0.233531 -0.476230 -1.231219  0.724310   -0.303355    0.592489\n",
       "4   -0.813034 -1.751842 -0.025249 -1.231219 -1.380624   -0.303355    0.592489\n",
       "..        ...       ...       ...       ...       ...         ...         ...\n",
       "707 -0.813034 -0.613109 -0.480162  0.812203 -1.380624   -0.303355    0.592489\n",
       "708  1.614136  0.695177 -0.030545  0.812203  0.724310   -0.303355    0.592489\n",
       "709 -0.813034  0.905202 -0.355804 -1.231219  0.724310   -0.303355    0.592489\n",
       "710  1.614136 -1.144517  1.683201 -1.231219 -1.380624   -0.303355    0.592489\n",
       "711  1.614136 -0.613109  0.860748 -1.231219  0.724310   -0.303355    0.592489\n",
       "\n",
       "[712 rows x 7 columns]"
      ]
     },
     "execution_count": 125,
     "metadata": {},
     "output_type": "execute_result"
    }
   ],
   "source": [
    "X_train = pd.DataFrame(X_train, columns=data.columns)\n",
    "X_train"
   ]
  },
  {
   "cell_type": "code",
   "execution_count": 126,
   "id": "0b3fdac0-239e-429d-9f0b-789a7e88fadf",
   "metadata": {},
   "outputs": [
    {
     "data": {
      "text/html": [
       "<div>\n",
       "<style scoped>\n",
       "    .dataframe tbody tr th:only-of-type {\n",
       "        vertical-align: middle;\n",
       "    }\n",
       "\n",
       "    .dataframe tbody tr th {\n",
       "        vertical-align: top;\n",
       "    }\n",
       "\n",
       "    .dataframe thead th {\n",
       "        text-align: right;\n",
       "    }\n",
       "</style>\n",
       "<table border=\"1\" class=\"dataframe\">\n",
       "  <thead>\n",
       "    <tr style=\"text-align: right;\">\n",
       "      <th></th>\n",
       "      <th>Pclass</th>\n",
       "      <th>Age</th>\n",
       "      <th>Fare</th>\n",
       "      <th>IsAlone</th>\n",
       "      <th>Sex_male</th>\n",
       "      <th>Embarked_Q</th>\n",
       "      <th>Embarked_S</th>\n",
       "    </tr>\n",
       "  </thead>\n",
       "  <tbody>\n",
       "    <tr>\n",
       "      <th>0</th>\n",
       "      <td>-0.813034</td>\n",
       "      <td>-0.298772</td>\n",
       "      <td>-0.333901</td>\n",
       "      <td>-1.231219</td>\n",
       "      <td>0.724310</td>\n",
       "      <td>-0.303355</td>\n",
       "      <td>-1.687794</td>\n",
       "    </tr>\n",
       "    <tr>\n",
       "      <th>1</th>\n",
       "      <td>0.400551</td>\n",
       "      <td>0.146046</td>\n",
       "      <td>-0.425284</td>\n",
       "      <td>0.812203</td>\n",
       "      <td>0.724310</td>\n",
       "      <td>-0.303355</td>\n",
       "      <td>0.592489</td>\n",
       "    </tr>\n",
       "    <tr>\n",
       "      <th>2</th>\n",
       "      <td>-0.813034</td>\n",
       "      <td>-0.689024</td>\n",
       "      <td>-0.474867</td>\n",
       "      <td>0.812203</td>\n",
       "      <td>0.724310</td>\n",
       "      <td>-0.303355</td>\n",
       "      <td>0.592489</td>\n",
       "    </tr>\n",
       "    <tr>\n",
       "      <th>3</th>\n",
       "      <td>0.400551</td>\n",
       "      <td>-1.751842</td>\n",
       "      <td>0.007966</td>\n",
       "      <td>-1.231219</td>\n",
       "      <td>-1.380624</td>\n",
       "      <td>-0.303355</td>\n",
       "      <td>0.592489</td>\n",
       "    </tr>\n",
       "    <tr>\n",
       "      <th>4</th>\n",
       "      <td>-0.813034</td>\n",
       "      <td>-1.144517</td>\n",
       "      <td>-0.411002</td>\n",
       "      <td>-1.231219</td>\n",
       "      <td>-1.380624</td>\n",
       "      <td>-0.303355</td>\n",
       "      <td>-1.687794</td>\n",
       "    </tr>\n",
       "    <tr>\n",
       "      <th>...</th>\n",
       "      <td>...</td>\n",
       "      <td>...</td>\n",
       "      <td>...</td>\n",
       "      <td>...</td>\n",
       "      <td>...</td>\n",
       "      <td>...</td>\n",
       "      <td>...</td>\n",
       "    </tr>\n",
       "    <tr>\n",
       "      <th>174</th>\n",
       "      <td>-0.813034</td>\n",
       "      <td>-0.916771</td>\n",
       "      <td>-0.490271</td>\n",
       "      <td>0.812203</td>\n",
       "      <td>0.724310</td>\n",
       "      <td>-0.303355</td>\n",
       "      <td>0.592489</td>\n",
       "    </tr>\n",
       "    <tr>\n",
       "      <th>175</th>\n",
       "      <td>-0.813034</td>\n",
       "      <td>-0.298772</td>\n",
       "      <td>-0.488346</td>\n",
       "      <td>0.812203</td>\n",
       "      <td>0.724310</td>\n",
       "      <td>-0.303355</td>\n",
       "      <td>-1.687794</td>\n",
       "    </tr>\n",
       "    <tr>\n",
       "      <th>176</th>\n",
       "      <td>-0.813034</td>\n",
       "      <td>0.677455</td>\n",
       "      <td>-0.023083</td>\n",
       "      <td>-1.231219</td>\n",
       "      <td>-1.380624</td>\n",
       "      <td>-0.303355</td>\n",
       "      <td>0.592489</td>\n",
       "    </tr>\n",
       "    <tr>\n",
       "      <th>177</th>\n",
       "      <td>0.400551</td>\n",
       "      <td>-0.916771</td>\n",
       "      <td>-0.425284</td>\n",
       "      <td>0.812203</td>\n",
       "      <td>-1.380624</td>\n",
       "      <td>-0.303355</td>\n",
       "      <td>0.592489</td>\n",
       "    </tr>\n",
       "    <tr>\n",
       "      <th>178</th>\n",
       "      <td>-0.813034</td>\n",
       "      <td>-1.903673</td>\n",
       "      <td>-0.305899</td>\n",
       "      <td>-1.231219</td>\n",
       "      <td>-1.380624</td>\n",
       "      <td>-0.303355</td>\n",
       "      <td>0.592489</td>\n",
       "    </tr>\n",
       "  </tbody>\n",
       "</table>\n",
       "<p>179 rows × 7 columns</p>\n",
       "</div>"
      ],
      "text/plain": [
       "       Pclass       Age      Fare   IsAlone  Sex_male  Embarked_Q  Embarked_S\n",
       "0   -0.813034 -0.298772 -0.333901 -1.231219  0.724310   -0.303355   -1.687794\n",
       "1    0.400551  0.146046 -0.425284  0.812203  0.724310   -0.303355    0.592489\n",
       "2   -0.813034 -0.689024 -0.474867  0.812203  0.724310   -0.303355    0.592489\n",
       "3    0.400551 -1.751842  0.007966 -1.231219 -1.380624   -0.303355    0.592489\n",
       "4   -0.813034 -1.144517 -0.411002 -1.231219 -1.380624   -0.303355   -1.687794\n",
       "..        ...       ...       ...       ...       ...         ...         ...\n",
       "174 -0.813034 -0.916771 -0.490271  0.812203  0.724310   -0.303355    0.592489\n",
       "175 -0.813034 -0.298772 -0.488346  0.812203  0.724310   -0.303355   -1.687794\n",
       "176 -0.813034  0.677455 -0.023083 -1.231219 -1.380624   -0.303355    0.592489\n",
       "177  0.400551 -0.916771 -0.425284  0.812203 -1.380624   -0.303355    0.592489\n",
       "178 -0.813034 -1.903673 -0.305899 -1.231219 -1.380624   -0.303355    0.592489\n",
       "\n",
       "[179 rows x 7 columns]"
      ]
     },
     "execution_count": 126,
     "metadata": {},
     "output_type": "execute_result"
    }
   ],
   "source": [
    "X_test = pd.DataFrame(X_test, columns=cols)\n",
    "X_test"
   ]
  },
  {
   "cell_type": "markdown",
   "id": "8d4c4842-415e-4f7d-a268-03c873d60d88",
   "metadata": {},
   "source": [
    "`We need to turn back to pandas.DataFrame`"
   ]
  },
  {
   "cell_type": "markdown",
   "id": "d4bbddb8-d41a-4d75-b44f-9b000ed332ee",
   "metadata": {},
   "source": [
    "### 9. RandomizedSearchCV and XGBOOST"
   ]
  },
  {
   "cell_type": "markdown",
   "id": "c90c64cd-2c1b-4680-9f04-d90978b1137f",
   "metadata": {},
   "source": [
    "**XGBOOST**"
   ]
  },
  {
   "cell_type": "code",
   "execution_count": 127,
   "id": "ef0c503d-3118-44f2-81ee-ee18216b8e44",
   "metadata": {},
   "outputs": [],
   "source": [
    "from xgboost import XGBClassifier"
   ]
  },
  {
   "cell_type": "code",
   "execution_count": 128,
   "id": "b8bf2e9d-8156-4636-8d9c-8db455e3d84b",
   "metadata": {},
   "outputs": [],
   "source": [
    "xgb = XGBClassifier(random_state=0)"
   ]
  },
  {
   "cell_type": "markdown",
   "id": "ba4b6b2d-e7ba-485a-84b4-5aadbc4d721c",
   "metadata": {},
   "source": [
    "**RandomizedSearchCV**"
   ]
  },
  {
   "cell_type": "code",
   "execution_count": 129,
   "id": "a8b6375a-3dce-40d0-bb58-032d694a5ee5",
   "metadata": {},
   "outputs": [],
   "source": [
    "from sklearn.model_selection import RandomizedSearchCV, StratifiedKFold"
   ]
  },
  {
   "cell_type": "code",
   "execution_count": 130,
   "id": "ba0897d8-32b8-46e6-b4f7-08a39a8e4872",
   "metadata": {},
   "outputs": [
    {
     "name": "stdout",
     "output_type": "stream",
     "text": [
      "[23:37:37] WARNING: C:\\Windows\\Temp\\abs_557yfx631l\\croots\\recipe\\xgboost-split_1659548953302\\work\\src\\learner.cc:1115: Starting in XGBoost 1.3.0, the default evaluation metric used with the objective 'binary:logistic' was changed from 'error' to 'logloss'. Explicitly set eval_metric if you'd like to restore the old behavior.\n",
      "[23:37:38] WARNING: C:\\Windows\\Temp\\abs_557yfx631l\\croots\\recipe\\xgboost-split_1659548953302\\work\\src\\learner.cc:1115: Starting in XGBoost 1.3.0, the default evaluation metric used with the objective 'binary:logistic' was changed from 'error' to 'logloss'. Explicitly set eval_metric if you'd like to restore the old behavior.\n",
      "[23:37:38] WARNING: C:\\Windows\\Temp\\abs_557yfx631l\\croots\\recipe\\xgboost-split_1659548953302\\work\\src\\learner.cc:1115: Starting in XGBoost 1.3.0, the default evaluation metric used with the objective 'binary:logistic' was changed from 'error' to 'logloss'. Explicitly set eval_metric if you'd like to restore the old behavior.\n",
      "[23:37:38] WARNING: C:\\Windows\\Temp\\abs_557yfx631l\\croots\\recipe\\xgboost-split_1659548953302\\work\\src\\learner.cc:1115: Starting in XGBoost 1.3.0, the default evaluation metric used with the objective 'binary:logistic' was changed from 'error' to 'logloss'. Explicitly set eval_metric if you'd like to restore the old behavior.\n",
      "[23:37:38] WARNING: C:\\Windows\\Temp\\abs_557yfx631l\\croots\\recipe\\xgboost-split_1659548953302\\work\\src\\learner.cc:1115: Starting in XGBoost 1.3.0, the default evaluation metric used with the objective 'binary:logistic' was changed from 'error' to 'logloss'. Explicitly set eval_metric if you'd like to restore the old behavior.\n",
      "[23:37:39] WARNING: C:\\Windows\\Temp\\abs_557yfx631l\\croots\\recipe\\xgboost-split_1659548953302\\work\\src\\learner.cc:1115: Starting in XGBoost 1.3.0, the default evaluation metric used with the objective 'binary:logistic' was changed from 'error' to 'logloss'. Explicitly set eval_metric if you'd like to restore the old behavior.\n",
      "[23:37:39] WARNING: C:\\Windows\\Temp\\abs_557yfx631l\\croots\\recipe\\xgboost-split_1659548953302\\work\\src\\learner.cc:1115: Starting in XGBoost 1.3.0, the default evaluation metric used with the objective 'binary:logistic' was changed from 'error' to 'logloss'. Explicitly set eval_metric if you'd like to restore the old behavior.\n",
      "[23:37:39] WARNING: C:\\Windows\\Temp\\abs_557yfx631l\\croots\\recipe\\xgboost-split_1659548953302\\work\\src\\learner.cc:1115: Starting in XGBoost 1.3.0, the default evaluation metric used with the objective 'binary:logistic' was changed from 'error' to 'logloss'. Explicitly set eval_metric if you'd like to restore the old behavior.\n",
      "[23:37:39] WARNING: C:\\Windows\\Temp\\abs_557yfx631l\\croots\\recipe\\xgboost-split_1659548953302\\work\\src\\learner.cc:1115: Starting in XGBoost 1.3.0, the default evaluation metric used with the objective 'binary:logistic' was changed from 'error' to 'logloss'. Explicitly set eval_metric if you'd like to restore the old behavior.\n",
      "[23:37:40] WARNING: C:\\Windows\\Temp\\abs_557yfx631l\\croots\\recipe\\xgboost-split_1659548953302\\work\\src\\learner.cc:1115: Starting in XGBoost 1.3.0, the default evaluation metric used with the objective 'binary:logistic' was changed from 'error' to 'logloss'. Explicitly set eval_metric if you'd like to restore the old behavior.\n",
      "[23:37:40] WARNING: C:\\Windows\\Temp\\abs_557yfx631l\\croots\\recipe\\xgboost-split_1659548953302\\work\\src\\learner.cc:1115: Starting in XGBoost 1.3.0, the default evaluation metric used with the objective 'binary:logistic' was changed from 'error' to 'logloss'. Explicitly set eval_metric if you'd like to restore the old behavior.\n",
      "[23:37:40] WARNING: C:\\Windows\\Temp\\abs_557yfx631l\\croots\\recipe\\xgboost-split_1659548953302\\work\\src\\learner.cc:1115: Starting in XGBoost 1.3.0, the default evaluation metric used with the objective 'binary:logistic' was changed from 'error' to 'logloss'. Explicitly set eval_metric if you'd like to restore the old behavior.\n",
      "[23:37:40] WARNING: C:\\Windows\\Temp\\abs_557yfx631l\\croots\\recipe\\xgboost-split_1659548953302\\work\\src\\learner.cc:1115: Starting in XGBoost 1.3.0, the default evaluation metric used with the objective 'binary:logistic' was changed from 'error' to 'logloss'. Explicitly set eval_metric if you'd like to restore the old behavior.\n",
      "[23:37:41] WARNING: C:\\Windows\\Temp\\abs_557yfx631l\\croots\\recipe\\xgboost-split_1659548953302\\work\\src\\learner.cc:1115: Starting in XGBoost 1.3.0, the default evaluation metric used with the objective 'binary:logistic' was changed from 'error' to 'logloss'. Explicitly set eval_metric if you'd like to restore the old behavior.\n",
      "[23:37:41] WARNING: C:\\Windows\\Temp\\abs_557yfx631l\\croots\\recipe\\xgboost-split_1659548953302\\work\\src\\learner.cc:1115: Starting in XGBoost 1.3.0, the default evaluation metric used with the objective 'binary:logistic' was changed from 'error' to 'logloss'. Explicitly set eval_metric if you'd like to restore the old behavior.\n",
      "[23:37:41] WARNING: C:\\Windows\\Temp\\abs_557yfx631l\\croots\\recipe\\xgboost-split_1659548953302\\work\\src\\learner.cc:1115: Starting in XGBoost 1.3.0, the default evaluation metric used with the objective 'binary:logistic' was changed from 'error' to 'logloss'. Explicitly set eval_metric if you'd like to restore the old behavior.\n"
     ]
    },
    {
     "data": {
      "text/plain": [
       "RandomizedSearchCV(cv=StratifiedKFold(n_splits=5, random_state=30, shuffle=True),\n",
       "                   estimator=XGBClassifier(base_score=None, booster=None,\n",
       "                                           colsample_bylevel=None,\n",
       "                                           colsample_bynode=None,\n",
       "                                           colsample_bytree=None,\n",
       "                                           enable_categorical=False, gamma=None,\n",
       "                                           gpu_id=None, importance_type=None,\n",
       "                                           interaction_constraints=None,\n",
       "                                           learning_rate=None,\n",
       "                                           max_delta_step=None, max_depth=None...\n",
       "                                           n_estimators=100, n_jobs=None,\n",
       "                                           num_parallel_tree=None,\n",
       "                                           predictor=None, random_state=0,\n",
       "                                           reg_alpha=None, reg_lambda=None,\n",
       "                                           scale_pos_weight=None,\n",
       "                                           subsample=None, tree_method=None,\n",
       "                                           validate_parameters=None,\n",
       "                                           verbosity=None),\n",
       "                   n_iter=3,\n",
       "                   param_distributions={'learning_rate': [0.1, 0.3, 0.5, 0.75],\n",
       "                                        'max_depth': [3, 4, 5, 6, 7],\n",
       "                                        'n_estimators': [200, 300, 400, 500,\n",
       "                                                         600]},\n",
       "                   random_state=0, scoring='roc_auc')"
      ]
     },
     "execution_count": 130,
     "metadata": {},
     "output_type": "execute_result"
    }
   ],
   "source": [
    "cv = StratifiedKFold(shuffle=True, random_state=30)\n",
    "\n",
    "params = dict({\"learning_rate\":[0.1, 0.3, 0.5, 0.75], \"max_depth\":[3, 4, 5, 6, 7], \"n_estimators\":[200, 300, 400, 500, 600]})\n",
    "rs = RandomizedSearchCV(estimator=xgb, param_distributions=params, n_iter=3, scoring=\"roc_auc\", cv=cv, random_state=0)\n",
    "\n",
    "rs.fit(X_train, y_train)"
   ]
  },
  {
   "cell_type": "code",
   "execution_count": 131,
   "id": "db75b922-3695-4512-9fd7-a9881112b719",
   "metadata": {},
   "outputs": [
    {
     "name": "stdout",
     "output_type": "stream",
     "text": [
      "Best Hyperparameters: {'n_estimators': 400, 'max_depth': 3, 'learning_rate': 0.1}\n",
      "Best Score: 0.842423863217005\n"
     ]
    }
   ],
   "source": [
    "print(f\"Best Hyperparameters: {rs.best_params_}\")\n",
    "print(f\"Best Score: {rs.best_score_}\")"
   ]
  },
  {
   "cell_type": "code",
   "execution_count": 132,
   "id": "886d6c3a-28e7-40e5-bad0-2674826ca807",
   "metadata": {},
   "outputs": [
    {
     "name": "stdout",
     "output_type": "stream",
     "text": [
      "   mean_fit_time  std_fit_time  mean_score_time  std_score_time  \\\n",
      "2       0.284040      0.018230         0.007181        0.000747   \n",
      "0       0.222200      0.012709         0.007380        0.001018   \n",
      "1       0.262897      0.015676         0.007779        0.000399   \n",
      "\n",
      "  param_n_estimators param_max_depth param_learning_rate  \\\n",
      "2                400               3                 0.1   \n",
      "0                300               3                 0.3   \n",
      "1                300               5                0.75   \n",
      "\n",
      "                                              params  split0_test_score  \\\n",
      "2  {'n_estimators': 400, 'max_depth': 3, 'learnin...           0.843009   \n",
      "0  {'n_estimators': 300, 'max_depth': 3, 'learnin...           0.846338   \n",
      "1  {'n_estimators': 300, 'max_depth': 5, 'learnin...           0.836767   \n",
      "\n",
      "   split1_test_score  split2_test_score  split3_test_score  split4_test_score  \\\n",
      "2           0.859655           0.887852           0.824571           0.797033   \n",
      "0           0.854141           0.872695           0.821179           0.801031   \n",
      "1           0.839576           0.862519           0.810897           0.798927   \n",
      "\n",
      "   mean_test_score  std_test_score  rank_test_score  \n",
      "2         0.842424        0.030790                1  \n",
      "0         0.839077        0.025210                2  \n",
      "1         0.829737        0.022473                3  \n"
     ]
    }
   ],
   "source": [
    "rc_result = pd.DataFrame(rs.cv_results_).sort_values('mean_test_score', ascending= False)\n",
    "print(rc_result)"
   ]
  },
  {
   "cell_type": "markdown",
   "id": "99a895a4-eab2-4341-bb94-ca49db8f7d75",
   "metadata": {},
   "source": [
    "---"
   ]
  },
  {
   "cell_type": "markdown",
   "id": "010f31b7-5889-4d3a-b3fa-9ee6885889b5",
   "metadata": {},
   "source": [
    "### 10. Score"
   ]
  },
  {
   "cell_type": "code",
   "execution_count": 133,
   "id": "33f426e9-3219-4f0e-a5eb-f33403e767dd",
   "metadata": {},
   "outputs": [],
   "source": [
    "from sklearn.metrics import roc_auc_score"
   ]
  },
  {
   "cell_type": "code",
   "execution_count": 134,
   "id": "8b202a95-6418-4224-b8f6-ae4ed25a058f",
   "metadata": {},
   "outputs": [
    {
     "name": "stdout",
     "output_type": "stream",
     "text": [
      "[23:37:42] WARNING: C:\\Windows\\Temp\\abs_557yfx631l\\croots\\recipe\\xgboost-split_1659548953302\\work\\src\\learner.cc:1115: Starting in XGBoost 1.3.0, the default evaluation metric used with the objective 'binary:logistic' was changed from 'error' to 'logloss'. Explicitly set eval_metric if you'd like to restore the old behavior.\n"
     ]
    }
   ],
   "source": [
    "xgb = XGBClassifier(n_estimators=400, max_depth=3, learning_rate=0.1, random_state=0)\n",
    "model = xgb.fit(X_train, y_train)\n",
    "\n",
    "pred_train = model.predict(X_train)\n",
    "pred_test = model.predict(X_test)"
   ]
  },
  {
   "cell_type": "code",
   "execution_count": 135,
   "id": "b22416f1-7994-41b2-9136-4e083661dfa4",
   "metadata": {},
   "outputs": [
    {
     "name": "stdout",
     "output_type": "stream",
     "text": [
      "ROC-AUC train score with XGBoost -> 0.9073551163103403\n",
      "ROC-AUC test score with XGBoost -> 0.82998712998713\n"
     ]
    }
   ],
   "source": [
    "print(f\"ROC-AUC train score with XGBoost -> {roc_auc_score(y_train, pred_train)}\")\n",
    "\n",
    "print(f\"ROC-AUC test score with XGBoost -> {roc_auc_score(y_test, pred_test)}\")"
   ]
  },
  {
   "cell_type": "code",
   "execution_count": null,
   "id": "444e7a04-9f42-4401-b254-10240be8a80f",
   "metadata": {},
   "outputs": [],
   "source": []
  }
 ],
 "metadata": {
  "kernelspec": {
   "display_name": "Python 3 (ipykernel)",
   "language": "python",
   "name": "python3"
  },
  "language_info": {
   "codemirror_mode": {
    "name": "ipython",
    "version": 3
   },
   "file_extension": ".py",
   "mimetype": "text/x-python",
   "name": "python",
   "nbconvert_exporter": "python",
   "pygments_lexer": "ipython3",
   "version": "3.10.4"
  }
 },
 "nbformat": 4,
 "nbformat_minor": 5
}
